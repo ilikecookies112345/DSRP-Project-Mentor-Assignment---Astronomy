{
  "nbformat": 4,
  "nbformat_minor": 0,
  "metadata": {
    "colab": {
      "provenance": [],
      "authorship_tag": "ABX9TyPCif9MJgsNu7ODpFgYZK1P",
      "include_colab_link": true
    },
    "kernelspec": {
      "name": "python3",
      "display_name": "Python 3"
    },
    "language_info": {
      "name": "python"
    }
  },
  "cells": [
    {
      "cell_type": "markdown",
      "metadata": {
        "id": "view-in-github",
        "colab_type": "text"
      },
      "source": [
        "<a href=\"https://colab.research.google.com/github/ilikecookies112345/DSRP-Project-Mentor-Assignment---Astronomy/blob/main/DSRP_Project_%26_Mentor_Assignment_Astronomy.ipynb\" target=\"_parent\"><img src=\"https://colab.research.google.com/assets/colab-badge.svg\" alt=\"Open In Colab\"/></a>"
      ]
    },
    {
      "cell_type": "code",
      "execution_count": 3,
      "metadata": {
        "id": "IWLZvlIu6PrG",
        "colab": {
          "base_uri": "https://localhost:8080/"
        },
        "outputId": "4c222341-b88b-4533-a5b6-8246949ca326"
      },
      "outputs": [
        {
          "output_type": "stream",
          "name": "stdout",
          "text": [
            "Collecting ucimlrepo\n",
            "  Downloading ucimlrepo-0.0.7-py3-none-any.whl.metadata (5.5 kB)\n",
            "Requirement already satisfied: pandas>=1.0.0 in /usr/local/lib/python3.11/dist-packages (from ucimlrepo) (2.2.2)\n",
            "Requirement already satisfied: certifi>=2020.12.5 in /usr/local/lib/python3.11/dist-packages (from ucimlrepo) (2025.7.14)\n",
            "Requirement already satisfied: numpy>=1.23.2 in /usr/local/lib/python3.11/dist-packages (from pandas>=1.0.0->ucimlrepo) (2.0.2)\n",
            "Requirement already satisfied: python-dateutil>=2.8.2 in /usr/local/lib/python3.11/dist-packages (from pandas>=1.0.0->ucimlrepo) (2.9.0.post0)\n",
            "Requirement already satisfied: pytz>=2020.1 in /usr/local/lib/python3.11/dist-packages (from pandas>=1.0.0->ucimlrepo) (2025.2)\n",
            "Requirement already satisfied: tzdata>=2022.7 in /usr/local/lib/python3.11/dist-packages (from pandas>=1.0.0->ucimlrepo) (2025.2)\n",
            "Requirement already satisfied: six>=1.5 in /usr/local/lib/python3.11/dist-packages (from python-dateutil>=2.8.2->pandas>=1.0.0->ucimlrepo) (1.17.0)\n",
            "Downloading ucimlrepo-0.0.7-py3-none-any.whl (8.0 kB)\n",
            "Installing collected packages: ucimlrepo\n",
            "Successfully installed ucimlrepo-0.0.7\n",
            "{'uci_id': 89, 'name': 'Solar Flare', 'repository_url': 'https://archive.ics.uci.edu/dataset/89/solar+flare', 'data_url': 'https://archive.ics.uci.edu/static/public/89/data.csv', 'abstract': 'Each class attribute counts the number of solar flares of a certain class that occur in a 24 hour period', 'area': 'Physics and Chemistry', 'tasks': ['Regression'], 'characteristics': ['Multivariate'], 'num_instances': 1389, 'num_features': 10, 'feature_types': ['Categorical'], 'demographics': [], 'target_col': ['common flares', 'moderate flares', 'severe flares'], 'index_col': None, 'has_missing_values': 'no', 'missing_values_symbol': None, 'year_of_dataset_creation': 1989, 'last_updated': 'Wed Feb 14 2024', 'dataset_doi': '10.24432/C5530G', 'creators': [], 'intro_paper': None, 'additional_info': {'summary': 'Notes:\\r\\n\\r\\n   -- The database contains 3 potential classes, one for the number of times a certain type of solar flare occured in a 24 hour period.\\r\\n   -- Each instance represents captured features for 1 active region on the sun.\\r\\n   -- The data are divided into two sections. The second section (flare.data2) has had much more error correction applied to the it, and has consequently been treated as more reliable.', 'purpose': None, 'funded_by': None, 'instances_represent': None, 'recommended_data_splits': None, 'sensitive_data': None, 'preprocessing_description': None, 'variable_info': \"   1. Code for class (modified Zurich class)  (A,B,C,D,E,F,H)\\r\\n   2. Code for largest spot size              (X,R,S,A,H,K)\\r\\n   3. Code for spot distribution              (X,O,I,C)\\r\\n   4. Activity                                (1 = reduced, 2 = unchanged)\\r\\n   5. Evolution                               (1 = decay, 2 = no growth, 3 = growth)\\r\\n   6. Previous 24 hour flare activity code    (1 = nothing as big as an M1, 2 = one M1, 3 = more activity than one M1)\\r\\n   7. Historically-complex                    (1 = Yes, 2 = No)\\r\\n   8. Did region become historically complex  on this pass across the sun's disk (1 = yes, 2 = no) \\r\\n   9. Area                                    (1 = small, 2 = large)\\r\\n  10. Area of the largest spot                (1 = <=5, 2 = >5)\\r\\n\\r\\n From all these predictors three classes of flares are predicted, which are represented in the last three columns.\\r\\n\\r\\n  11. C-class flares production by this region in the following 24 hours (common flares); Number\\r\\n  12. M-class flares production by this region in the following 24 hours (moderate flares);   Number\\r\\n  13. X-class flares production by this region in the following 24 hours (severe flares); Number\\r\\n     \", 'citation': None}}\n",
            "                               name     role         type demographic  \\\n",
            "0             modified Zurich class  Feature  Categorical        None   \n",
            "1                 largest spot size  Feature  Categorical        None   \n",
            "2                 spot distribution  Feature  Categorical        None   \n",
            "3                          activity  Feature      Integer        None   \n",
            "4                         evolution  Feature      Integer        None   \n",
            "5   previous 24 hour flare activity  Feature      Integer        None   \n",
            "6              historically-complex  Feature      Integer        None   \n",
            "7       became complex on this pass  Feature      Integer        None   \n",
            "8                              area  Feature      Integer        None   \n",
            "9              area of largest spot  Feature      Integer        None   \n",
            "10                    common flares   Target      Integer        None   \n",
            "11                  moderate flares   Target      Integer        None   \n",
            "12                    severe flares   Target      Integer        None   \n",
            "\n",
            "                                          description units missing_values  \n",
            "0                                       A,B,C,D,E,F,H  None             no  \n",
            "1                                         X,R,S,A,H,K  None             no  \n",
            "2                                             X,O,I,C  None             no  \n",
            "3                          1 = reduced, 2 = unchanged  None             no  \n",
            "4                1 = decay, 2 = no growth, 3 = growth  None             no  \n",
            "5   1 = nothing as big as an M1, 2 = one M1, 3 = m...  None             no  \n",
            "6                                     1 = Yes, 2 = No  None             no  \n",
            "7   . Did region become historically complex  on t...  None             no  \n",
            "8                                1 = small, 2 = large  None             no  \n",
            "9                                     1 = <=5, 2 = >5  None             no  \n",
            "10  C-class flares production by this region in th...  None             no  \n",
            "11  M-class flares production by this region in th...  None             no  \n",
            "12  X-class flares production by this region in th...  None             no  \n",
            "(1389, 13)\n"
          ]
        }
      ],
      "source": [
        "!pip install ucimlrepo\n",
        "\n",
        "import pandas as pd\n",
        "from ucimlrepo import fetch_ucirepo\n",
        "import matplotlib.pyplot as plt\n",
        "import seaborn as sns\n",
        "from scipy.stats import ttest_ind\n",
        "from sklearn.linear_model import LinearRegression\n",
        "from sklearn.ensemble import RandomForestRegressor\n",
        "from sklearn.metrics import mean_absolute_error, r2_score, mean_squared_error\n",
        "\n",
        "\n",
        "# fetch dataset\n",
        "solar_flare = fetch_ucirepo(id=89)\n",
        "\n",
        "# data (as pandas dataframes)\n",
        "X = solar_flare.data.features\n",
        "y = solar_flare.data.targets\n",
        "\n",
        "# metadata\n",
        "print(solar_flare.metadata)\n",
        "\n",
        "# variable information\n",
        "print(solar_flare.variables)\n",
        "\n",
        "solar_flare_df = pd.concat([X, y], axis=1)\n",
        "print(solar_flare_df.shape)\n"
      ]
    },
    {
      "cell_type": "code",
      "source": [
        "solar_flare_df.shape\n",
        "solar_flare_df.info()"
      ],
      "metadata": {
        "colab": {
          "base_uri": "https://localhost:8080/"
        },
        "id": "JyUl5XOoBP55",
        "outputId": "42aa21ac-9ceb-4c77-f0f1-ef55f5cf129f"
      },
      "execution_count": 4,
      "outputs": [
        {
          "output_type": "stream",
          "name": "stdout",
          "text": [
            "<class 'pandas.core.frame.DataFrame'>\n",
            "RangeIndex: 1389 entries, 0 to 1388\n",
            "Data columns (total 13 columns):\n",
            " #   Column                           Non-Null Count  Dtype \n",
            "---  ------                           --------------  ----- \n",
            " 0   modified Zurich class            1389 non-null   object\n",
            " 1   largest spot size                1389 non-null   object\n",
            " 2   spot distribution                1389 non-null   object\n",
            " 3   activity                         1389 non-null   int64 \n",
            " 4   evolution                        1389 non-null   int64 \n",
            " 5   previous 24 hour flare activity  1389 non-null   int64 \n",
            " 6   historically-complex             1389 non-null   int64 \n",
            " 7   became complex on this pass      1389 non-null   int64 \n",
            " 8   area                             1389 non-null   int64 \n",
            " 9   area of largest spot             1389 non-null   int64 \n",
            " 10  common flares                    1389 non-null   int64 \n",
            " 11  moderate flares                  1389 non-null   int64 \n",
            " 12  severe flares                    1389 non-null   int64 \n",
            "dtypes: int64(10), object(3)\n",
            "memory usage: 141.2+ KB\n"
          ]
        }
      ]
    },
    {
      "cell_type": "code",
      "source": [
        "solar_flare_df.describe()"
      ],
      "metadata": {
        "colab": {
          "base_uri": "https://localhost:8080/",
          "height": 300
        },
        "id": "d2j8lqRaBux7",
        "outputId": "61a07767-bd65-4875-f79d-2edde4b3716e"
      },
      "execution_count": 5,
      "outputs": [
        {
          "output_type": "execute_result",
          "data": {
            "text/plain": [
              "          activity    evolution  previous 24 hour flare activity  \\\n",
              "count  1389.000000  1389.000000                      1389.000000   \n",
              "mean      1.150468     2.421166                         1.089993   \n",
              "std       0.357658     0.617129                         0.403292   \n",
              "min       1.000000     1.000000                         1.000000   \n",
              "25%       1.000000     2.000000                         1.000000   \n",
              "50%       1.000000     2.000000                         1.000000   \n",
              "75%       1.000000     3.000000                         1.000000   \n",
              "max       2.000000     3.000000                         3.000000   \n",
              "\n",
              "       historically-complex  became complex on this pass         area  \\\n",
              "count           1389.000000                  1389.000000  1389.000000   \n",
              "mean               1.395968                     1.892009     1.025918   \n",
              "std                0.489234                     0.310481     0.158948   \n",
              "min                1.000000                     1.000000     1.000000   \n",
              "25%                1.000000                     2.000000     1.000000   \n",
              "50%                1.000000                     2.000000     1.000000   \n",
              "75%                2.000000                     2.000000     1.000000   \n",
              "max                2.000000                     2.000000     2.000000   \n",
              "\n",
              "       area of largest spot  common flares  moderate flares  severe flares  \n",
              "count           1389.000000    1389.000000      1389.000000    1389.000000  \n",
              "mean               1.175666       0.261339         0.067675       0.009359  \n",
              "std                0.380673       0.760201         0.353695       0.103534  \n",
              "min                1.000000       0.000000         0.000000       0.000000  \n",
              "25%                1.000000       0.000000         0.000000       0.000000  \n",
              "50%                1.000000       0.000000         0.000000       0.000000  \n",
              "75%                1.000000       0.000000         0.000000       0.000000  \n",
              "max                2.000000       8.000000         5.000000       2.000000  "
            ],
            "text/html": [
              "\n",
              "  <div id=\"df-f402afda-9f2a-4091-a2ae-037431b35bd9\" class=\"colab-df-container\">\n",
              "    <div>\n",
              "<style scoped>\n",
              "    .dataframe tbody tr th:only-of-type {\n",
              "        vertical-align: middle;\n",
              "    }\n",
              "\n",
              "    .dataframe tbody tr th {\n",
              "        vertical-align: top;\n",
              "    }\n",
              "\n",
              "    .dataframe thead th {\n",
              "        text-align: right;\n",
              "    }\n",
              "</style>\n",
              "<table border=\"1\" class=\"dataframe\">\n",
              "  <thead>\n",
              "    <tr style=\"text-align: right;\">\n",
              "      <th></th>\n",
              "      <th>activity</th>\n",
              "      <th>evolution</th>\n",
              "      <th>previous 24 hour flare activity</th>\n",
              "      <th>historically-complex</th>\n",
              "      <th>became complex on this pass</th>\n",
              "      <th>area</th>\n",
              "      <th>area of largest spot</th>\n",
              "      <th>common flares</th>\n",
              "      <th>moderate flares</th>\n",
              "      <th>severe flares</th>\n",
              "    </tr>\n",
              "  </thead>\n",
              "  <tbody>\n",
              "    <tr>\n",
              "      <th>count</th>\n",
              "      <td>1389.000000</td>\n",
              "      <td>1389.000000</td>\n",
              "      <td>1389.000000</td>\n",
              "      <td>1389.000000</td>\n",
              "      <td>1389.000000</td>\n",
              "      <td>1389.000000</td>\n",
              "      <td>1389.000000</td>\n",
              "      <td>1389.000000</td>\n",
              "      <td>1389.000000</td>\n",
              "      <td>1389.000000</td>\n",
              "    </tr>\n",
              "    <tr>\n",
              "      <th>mean</th>\n",
              "      <td>1.150468</td>\n",
              "      <td>2.421166</td>\n",
              "      <td>1.089993</td>\n",
              "      <td>1.395968</td>\n",
              "      <td>1.892009</td>\n",
              "      <td>1.025918</td>\n",
              "      <td>1.175666</td>\n",
              "      <td>0.261339</td>\n",
              "      <td>0.067675</td>\n",
              "      <td>0.009359</td>\n",
              "    </tr>\n",
              "    <tr>\n",
              "      <th>std</th>\n",
              "      <td>0.357658</td>\n",
              "      <td>0.617129</td>\n",
              "      <td>0.403292</td>\n",
              "      <td>0.489234</td>\n",
              "      <td>0.310481</td>\n",
              "      <td>0.158948</td>\n",
              "      <td>0.380673</td>\n",
              "      <td>0.760201</td>\n",
              "      <td>0.353695</td>\n",
              "      <td>0.103534</td>\n",
              "    </tr>\n",
              "    <tr>\n",
              "      <th>min</th>\n",
              "      <td>1.000000</td>\n",
              "      <td>1.000000</td>\n",
              "      <td>1.000000</td>\n",
              "      <td>1.000000</td>\n",
              "      <td>1.000000</td>\n",
              "      <td>1.000000</td>\n",
              "      <td>1.000000</td>\n",
              "      <td>0.000000</td>\n",
              "      <td>0.000000</td>\n",
              "      <td>0.000000</td>\n",
              "    </tr>\n",
              "    <tr>\n",
              "      <th>25%</th>\n",
              "      <td>1.000000</td>\n",
              "      <td>2.000000</td>\n",
              "      <td>1.000000</td>\n",
              "      <td>1.000000</td>\n",
              "      <td>2.000000</td>\n",
              "      <td>1.000000</td>\n",
              "      <td>1.000000</td>\n",
              "      <td>0.000000</td>\n",
              "      <td>0.000000</td>\n",
              "      <td>0.000000</td>\n",
              "    </tr>\n",
              "    <tr>\n",
              "      <th>50%</th>\n",
              "      <td>1.000000</td>\n",
              "      <td>2.000000</td>\n",
              "      <td>1.000000</td>\n",
              "      <td>1.000000</td>\n",
              "      <td>2.000000</td>\n",
              "      <td>1.000000</td>\n",
              "      <td>1.000000</td>\n",
              "      <td>0.000000</td>\n",
              "      <td>0.000000</td>\n",
              "      <td>0.000000</td>\n",
              "    </tr>\n",
              "    <tr>\n",
              "      <th>75%</th>\n",
              "      <td>1.000000</td>\n",
              "      <td>3.000000</td>\n",
              "      <td>1.000000</td>\n",
              "      <td>2.000000</td>\n",
              "      <td>2.000000</td>\n",
              "      <td>1.000000</td>\n",
              "      <td>1.000000</td>\n",
              "      <td>0.000000</td>\n",
              "      <td>0.000000</td>\n",
              "      <td>0.000000</td>\n",
              "    </tr>\n",
              "    <tr>\n",
              "      <th>max</th>\n",
              "      <td>2.000000</td>\n",
              "      <td>3.000000</td>\n",
              "      <td>3.000000</td>\n",
              "      <td>2.000000</td>\n",
              "      <td>2.000000</td>\n",
              "      <td>2.000000</td>\n",
              "      <td>2.000000</td>\n",
              "      <td>8.000000</td>\n",
              "      <td>5.000000</td>\n",
              "      <td>2.000000</td>\n",
              "    </tr>\n",
              "  </tbody>\n",
              "</table>\n",
              "</div>\n",
              "    <div class=\"colab-df-buttons\">\n",
              "\n",
              "  <div class=\"colab-df-container\">\n",
              "    <button class=\"colab-df-convert\" onclick=\"convertToInteractive('df-f402afda-9f2a-4091-a2ae-037431b35bd9')\"\n",
              "            title=\"Convert this dataframe to an interactive table.\"\n",
              "            style=\"display:none;\">\n",
              "\n",
              "  <svg xmlns=\"http://www.w3.org/2000/svg\" height=\"24px\" viewBox=\"0 -960 960 960\">\n",
              "    <path d=\"M120-120v-720h720v720H120Zm60-500h600v-160H180v160Zm220 220h160v-160H400v160Zm0 220h160v-160H400v160ZM180-400h160v-160H180v160Zm440 0h160v-160H620v160ZM180-180h160v-160H180v160Zm440 0h160v-160H620v160Z\"/>\n",
              "  </svg>\n",
              "    </button>\n",
              "\n",
              "  <style>\n",
              "    .colab-df-container {\n",
              "      display:flex;\n",
              "      gap: 12px;\n",
              "    }\n",
              "\n",
              "    .colab-df-convert {\n",
              "      background-color: #E8F0FE;\n",
              "      border: none;\n",
              "      border-radius: 50%;\n",
              "      cursor: pointer;\n",
              "      display: none;\n",
              "      fill: #1967D2;\n",
              "      height: 32px;\n",
              "      padding: 0 0 0 0;\n",
              "      width: 32px;\n",
              "    }\n",
              "\n",
              "    .colab-df-convert:hover {\n",
              "      background-color: #E2EBFA;\n",
              "      box-shadow: 0px 1px 2px rgba(60, 64, 67, 0.3), 0px 1px 3px 1px rgba(60, 64, 67, 0.15);\n",
              "      fill: #174EA6;\n",
              "    }\n",
              "\n",
              "    .colab-df-buttons div {\n",
              "      margin-bottom: 4px;\n",
              "    }\n",
              "\n",
              "    [theme=dark] .colab-df-convert {\n",
              "      background-color: #3B4455;\n",
              "      fill: #D2E3FC;\n",
              "    }\n",
              "\n",
              "    [theme=dark] .colab-df-convert:hover {\n",
              "      background-color: #434B5C;\n",
              "      box-shadow: 0px 1px 3px 1px rgba(0, 0, 0, 0.15);\n",
              "      filter: drop-shadow(0px 1px 2px rgba(0, 0, 0, 0.3));\n",
              "      fill: #FFFFFF;\n",
              "    }\n",
              "  </style>\n",
              "\n",
              "    <script>\n",
              "      const buttonEl =\n",
              "        document.querySelector('#df-f402afda-9f2a-4091-a2ae-037431b35bd9 button.colab-df-convert');\n",
              "      buttonEl.style.display =\n",
              "        google.colab.kernel.accessAllowed ? 'block' : 'none';\n",
              "\n",
              "      async function convertToInteractive(key) {\n",
              "        const element = document.querySelector('#df-f402afda-9f2a-4091-a2ae-037431b35bd9');\n",
              "        const dataTable =\n",
              "          await google.colab.kernel.invokeFunction('convertToInteractive',\n",
              "                                                    [key], {});\n",
              "        if (!dataTable) return;\n",
              "\n",
              "        const docLinkHtml = 'Like what you see? Visit the ' +\n",
              "          '<a target=\"_blank\" href=https://colab.research.google.com/notebooks/data_table.ipynb>data table notebook</a>'\n",
              "          + ' to learn more about interactive tables.';\n",
              "        element.innerHTML = '';\n",
              "        dataTable['output_type'] = 'display_data';\n",
              "        await google.colab.output.renderOutput(dataTable, element);\n",
              "        const docLink = document.createElement('div');\n",
              "        docLink.innerHTML = docLinkHtml;\n",
              "        element.appendChild(docLink);\n",
              "      }\n",
              "    </script>\n",
              "  </div>\n",
              "\n",
              "\n",
              "    <div id=\"df-521df9ec-ed29-4943-9084-63ab331c9d4b\">\n",
              "      <button class=\"colab-df-quickchart\" onclick=\"quickchart('df-521df9ec-ed29-4943-9084-63ab331c9d4b')\"\n",
              "                title=\"Suggest charts\"\n",
              "                style=\"display:none;\">\n",
              "\n",
              "<svg xmlns=\"http://www.w3.org/2000/svg\" height=\"24px\"viewBox=\"0 0 24 24\"\n",
              "     width=\"24px\">\n",
              "    <g>\n",
              "        <path d=\"M19 3H5c-1.1 0-2 .9-2 2v14c0 1.1.9 2 2 2h14c1.1 0 2-.9 2-2V5c0-1.1-.9-2-2-2zM9 17H7v-7h2v7zm4 0h-2V7h2v10zm4 0h-2v-4h2v4z\"/>\n",
              "    </g>\n",
              "</svg>\n",
              "      </button>\n",
              "\n",
              "<style>\n",
              "  .colab-df-quickchart {\n",
              "      --bg-color: #E8F0FE;\n",
              "      --fill-color: #1967D2;\n",
              "      --hover-bg-color: #E2EBFA;\n",
              "      --hover-fill-color: #174EA6;\n",
              "      --disabled-fill-color: #AAA;\n",
              "      --disabled-bg-color: #DDD;\n",
              "  }\n",
              "\n",
              "  [theme=dark] .colab-df-quickchart {\n",
              "      --bg-color: #3B4455;\n",
              "      --fill-color: #D2E3FC;\n",
              "      --hover-bg-color: #434B5C;\n",
              "      --hover-fill-color: #FFFFFF;\n",
              "      --disabled-bg-color: #3B4455;\n",
              "      --disabled-fill-color: #666;\n",
              "  }\n",
              "\n",
              "  .colab-df-quickchart {\n",
              "    background-color: var(--bg-color);\n",
              "    border: none;\n",
              "    border-radius: 50%;\n",
              "    cursor: pointer;\n",
              "    display: none;\n",
              "    fill: var(--fill-color);\n",
              "    height: 32px;\n",
              "    padding: 0;\n",
              "    width: 32px;\n",
              "  }\n",
              "\n",
              "  .colab-df-quickchart:hover {\n",
              "    background-color: var(--hover-bg-color);\n",
              "    box-shadow: 0 1px 2px rgba(60, 64, 67, 0.3), 0 1px 3px 1px rgba(60, 64, 67, 0.15);\n",
              "    fill: var(--button-hover-fill-color);\n",
              "  }\n",
              "\n",
              "  .colab-df-quickchart-complete:disabled,\n",
              "  .colab-df-quickchart-complete:disabled:hover {\n",
              "    background-color: var(--disabled-bg-color);\n",
              "    fill: var(--disabled-fill-color);\n",
              "    box-shadow: none;\n",
              "  }\n",
              "\n",
              "  .colab-df-spinner {\n",
              "    border: 2px solid var(--fill-color);\n",
              "    border-color: transparent;\n",
              "    border-bottom-color: var(--fill-color);\n",
              "    animation:\n",
              "      spin 1s steps(1) infinite;\n",
              "  }\n",
              "\n",
              "  @keyframes spin {\n",
              "    0% {\n",
              "      border-color: transparent;\n",
              "      border-bottom-color: var(--fill-color);\n",
              "      border-left-color: var(--fill-color);\n",
              "    }\n",
              "    20% {\n",
              "      border-color: transparent;\n",
              "      border-left-color: var(--fill-color);\n",
              "      border-top-color: var(--fill-color);\n",
              "    }\n",
              "    30% {\n",
              "      border-color: transparent;\n",
              "      border-left-color: var(--fill-color);\n",
              "      border-top-color: var(--fill-color);\n",
              "      border-right-color: var(--fill-color);\n",
              "    }\n",
              "    40% {\n",
              "      border-color: transparent;\n",
              "      border-right-color: var(--fill-color);\n",
              "      border-top-color: var(--fill-color);\n",
              "    }\n",
              "    60% {\n",
              "      border-color: transparent;\n",
              "      border-right-color: var(--fill-color);\n",
              "    }\n",
              "    80% {\n",
              "      border-color: transparent;\n",
              "      border-right-color: var(--fill-color);\n",
              "      border-bottom-color: var(--fill-color);\n",
              "    }\n",
              "    90% {\n",
              "      border-color: transparent;\n",
              "      border-bottom-color: var(--fill-color);\n",
              "    }\n",
              "  }\n",
              "</style>\n",
              "\n",
              "      <script>\n",
              "        async function quickchart(key) {\n",
              "          const quickchartButtonEl =\n",
              "            document.querySelector('#' + key + ' button');\n",
              "          quickchartButtonEl.disabled = true;  // To prevent multiple clicks.\n",
              "          quickchartButtonEl.classList.add('colab-df-spinner');\n",
              "          try {\n",
              "            const charts = await google.colab.kernel.invokeFunction(\n",
              "                'suggestCharts', [key], {});\n",
              "          } catch (error) {\n",
              "            console.error('Error during call to suggestCharts:', error);\n",
              "          }\n",
              "          quickchartButtonEl.classList.remove('colab-df-spinner');\n",
              "          quickchartButtonEl.classList.add('colab-df-quickchart-complete');\n",
              "        }\n",
              "        (() => {\n",
              "          let quickchartButtonEl =\n",
              "            document.querySelector('#df-521df9ec-ed29-4943-9084-63ab331c9d4b button');\n",
              "          quickchartButtonEl.style.display =\n",
              "            google.colab.kernel.accessAllowed ? 'block' : 'none';\n",
              "        })();\n",
              "      </script>\n",
              "    </div>\n",
              "\n",
              "    </div>\n",
              "  </div>\n"
            ],
            "application/vnd.google.colaboratory.intrinsic+json": {
              "type": "dataframe",
              "summary": "{\n  \"name\": \"solar_flare_df\",\n  \"rows\": 8,\n  \"fields\": [\n    {\n      \"column\": \"activity\",\n      \"properties\": {\n        \"dtype\": \"number\",\n        \"std\": 490.7066454412234,\n        \"min\": 0.35765828585559933,\n        \"max\": 1389.0,\n        \"num_unique_values\": 5,\n        \"samples\": [\n          1.150467962562995,\n          2.0,\n          0.35765828585559933\n        ],\n        \"semantic_type\": \"\",\n        \"description\": \"\"\n      }\n    },\n    {\n      \"column\": \"evolution\",\n      \"properties\": {\n        \"dtype\": \"number\",\n        \"std\": 490.3773598755573,\n        \"min\": 0.617129236591863,\n        \"max\": 1389.0,\n        \"num_unique_values\": 6,\n        \"samples\": [\n          1389.0,\n          2.4211663066954645,\n          3.0\n        ],\n        \"semantic_type\": \"\",\n        \"description\": \"\"\n      }\n    },\n    {\n      \"column\": \"previous 24 hour flare activity\",\n      \"properties\": {\n        \"dtype\": \"number\",\n        \"std\": 490.6572728005954,\n        \"min\": 0.4032923760525903,\n        \"max\": 1389.0,\n        \"num_unique_values\": 5,\n        \"samples\": [\n          1.0899928005759538,\n          3.0,\n          0.4032923760525903\n        ],\n        \"semantic_type\": \"\",\n        \"description\": \"\"\n      }\n    },\n    {\n      \"column\": \"historically-complex\",\n      \"properties\": {\n        \"dtype\": \"number\",\n        \"std\": 490.63716711494584,\n        \"min\": 0.48923381741499056,\n        \"max\": 1389.0,\n        \"num_unique_values\": 5,\n        \"samples\": [\n          1.3959683225341972,\n          2.0,\n          0.48923381741499056\n        ],\n        \"semantic_type\": \"\",\n        \"description\": \"\"\n      }\n    },\n    {\n      \"column\": \"became complex on this pass\",\n      \"properties\": {\n        \"dtype\": \"number\",\n        \"std\": 490.5202485257923,\n        \"min\": 0.31048128472966163,\n        \"max\": 1389.0,\n        \"num_unique_values\": 5,\n        \"samples\": [\n          1.8920086393088553,\n          2.0,\n          0.31048128472966163\n        ],\n        \"semantic_type\": \"\",\n        \"description\": \"\"\n      }\n    },\n    {\n      \"column\": \"area\",\n      \"properties\": {\n        \"dtype\": \"number\",\n        \"std\": 490.7230169265791,\n        \"min\": 0.15894771638624333,\n        \"max\": 1389.0,\n        \"num_unique_values\": 5,\n        \"samples\": [\n          1.0259179265658747,\n          2.0,\n          0.15894771638624333\n        ],\n        \"semantic_type\": \"\",\n        \"description\": \"\"\n      }\n    },\n    {\n      \"column\": \"area of largest spot\",\n      \"properties\": {\n        \"dtype\": \"number\",\n        \"std\": 490.7042062477327,\n        \"min\": 0.3806727597287123,\n        \"max\": 1389.0,\n        \"num_unique_values\": 5,\n        \"samples\": [\n          1.175665946724262,\n          2.0,\n          0.3806727597287123\n        ],\n        \"semantic_type\": \"\",\n        \"description\": \"\"\n      }\n    },\n    {\n      \"column\": \"common flares\",\n      \"properties\": {\n        \"dtype\": \"number\",\n        \"std\": 490.63772170509134,\n        \"min\": 0.0,\n        \"max\": 1389.0,\n        \"num_unique_values\": 5,\n        \"samples\": [\n          0.2613390928725702,\n          8.0,\n          0.7602014698108933\n        ],\n        \"semantic_type\": \"\",\n        \"description\": \"\"\n      }\n    },\n    {\n      \"column\": \"moderate flares\",\n      \"properties\": {\n        \"dtype\": \"number\",\n        \"std\": 490.81488514150516,\n        \"min\": 0.0,\n        \"max\": 1389.0,\n        \"num_unique_values\": 5,\n        \"samples\": [\n          0.06767458603311735,\n          5.0,\n          0.35369456868878324\n        ],\n        \"semantic_type\": \"\",\n        \"description\": \"\"\n      }\n    },\n    {\n      \"column\": \"severe flares\",\n      \"properties\": {\n        \"dtype\": \"number\",\n        \"std\": 490.97943303424387,\n        \"min\": 0.0,\n        \"max\": 1389.0,\n        \"num_unique_values\": 5,\n        \"samples\": [\n          0.009359251259899209,\n          2.0,\n          0.10353384824856429\n        ],\n        \"semantic_type\": \"\",\n        \"description\": \"\"\n      }\n    }\n  ]\n}"
            }
          },
          "metadata": {},
          "execution_count": 5
        }
      ]
    },
    {
      "cell_type": "code",
      "source": [
        "print(X.info())"
      ],
      "metadata": {
        "colab": {
          "base_uri": "https://localhost:8080/"
        },
        "id": "501buOkuCIXT",
        "outputId": "d4c10212-a17c-4fd2-d8b6-00b47351cc5e"
      },
      "execution_count": 6,
      "outputs": [
        {
          "output_type": "stream",
          "name": "stdout",
          "text": [
            "<class 'pandas.core.frame.DataFrame'>\n",
            "RangeIndex: 1389 entries, 0 to 1388\n",
            "Data columns (total 10 columns):\n",
            " #   Column                           Non-Null Count  Dtype \n",
            "---  ------                           --------------  ----- \n",
            " 0   modified Zurich class            1389 non-null   object\n",
            " 1   largest spot size                1389 non-null   object\n",
            " 2   spot distribution                1389 non-null   object\n",
            " 3   activity                         1389 non-null   int64 \n",
            " 4   evolution                        1389 non-null   int64 \n",
            " 5   previous 24 hour flare activity  1389 non-null   int64 \n",
            " 6   historically-complex             1389 non-null   int64 \n",
            " 7   became complex on this pass      1389 non-null   int64 \n",
            " 8   area                             1389 non-null   int64 \n",
            " 9   area of largest spot             1389 non-null   int64 \n",
            "dtypes: int64(7), object(3)\n",
            "memory usage: 108.6+ KB\n",
            "None\n"
          ]
        }
      ]
    },
    {
      "cell_type": "code",
      "source": [
        "solar_flare_df.head(10)"
      ],
      "metadata": {
        "colab": {
          "base_uri": "https://localhost:8080/",
          "height": 380
        },
        "id": "SwIy58IVCwqc",
        "outputId": "419bc315-a787-4894-ad97-530373eb82df"
      },
      "execution_count": 7,
      "outputs": [
        {
          "output_type": "execute_result",
          "data": {
            "text/plain": [
              "  modified Zurich class largest spot size spot distribution  activity  \\\n",
              "0                     C                 S                 O         1   \n",
              "1                     D                 S                 O         1   \n",
              "2                     C                 S                 O         1   \n",
              "3                     D                 S                 O         1   \n",
              "4                     D                 A                 O         1   \n",
              "5                     D                 A                 O         1   \n",
              "6                     D                 A                 O         1   \n",
              "7                     D                 A                 O         1   \n",
              "8                     D                 K                 O         1   \n",
              "9                     C                 R                 O         1   \n",
              "\n",
              "   evolution  previous 24 hour flare activity  historically-complex  \\\n",
              "0          2                                1                     1   \n",
              "1          3                                1                     1   \n",
              "2          3                                1                     1   \n",
              "3          3                                1                     1   \n",
              "4          3                                1                     1   \n",
              "5          2                                1                     1   \n",
              "6          2                                1                     1   \n",
              "7          2                                1                     1   \n",
              "8          3                                1                     1   \n",
              "9          3                                1                     1   \n",
              "\n",
              "   became complex on this pass  area  area of largest spot  common flares  \\\n",
              "0                            2     1                     2              0   \n",
              "1                            2     1                     2              0   \n",
              "2                            2     1                     1              0   \n",
              "3                            2     1                     2              0   \n",
              "4                            2     1                     2              0   \n",
              "5                            2     1                     2              0   \n",
              "6                            2     1                     1              0   \n",
              "7                            2     1                     2              0   \n",
              "8                            2     1                     2              0   \n",
              "9                            2     1                     1              0   \n",
              "\n",
              "   moderate flares  severe flares  \n",
              "0                0              0  \n",
              "1                0              0  \n",
              "2                0              0  \n",
              "3                0              0  \n",
              "4                0              0  \n",
              "5                0              0  \n",
              "6                0              0  \n",
              "7                0              0  \n",
              "8                0              0  \n",
              "9                0              0  "
            ],
            "text/html": [
              "\n",
              "  <div id=\"df-8304bc18-5d93-4a7c-a29b-c290722a4eaf\" class=\"colab-df-container\">\n",
              "    <div>\n",
              "<style scoped>\n",
              "    .dataframe tbody tr th:only-of-type {\n",
              "        vertical-align: middle;\n",
              "    }\n",
              "\n",
              "    .dataframe tbody tr th {\n",
              "        vertical-align: top;\n",
              "    }\n",
              "\n",
              "    .dataframe thead th {\n",
              "        text-align: right;\n",
              "    }\n",
              "</style>\n",
              "<table border=\"1\" class=\"dataframe\">\n",
              "  <thead>\n",
              "    <tr style=\"text-align: right;\">\n",
              "      <th></th>\n",
              "      <th>modified Zurich class</th>\n",
              "      <th>largest spot size</th>\n",
              "      <th>spot distribution</th>\n",
              "      <th>activity</th>\n",
              "      <th>evolution</th>\n",
              "      <th>previous 24 hour flare activity</th>\n",
              "      <th>historically-complex</th>\n",
              "      <th>became complex on this pass</th>\n",
              "      <th>area</th>\n",
              "      <th>area of largest spot</th>\n",
              "      <th>common flares</th>\n",
              "      <th>moderate flares</th>\n",
              "      <th>severe flares</th>\n",
              "    </tr>\n",
              "  </thead>\n",
              "  <tbody>\n",
              "    <tr>\n",
              "      <th>0</th>\n",
              "      <td>C</td>\n",
              "      <td>S</td>\n",
              "      <td>O</td>\n",
              "      <td>1</td>\n",
              "      <td>2</td>\n",
              "      <td>1</td>\n",
              "      <td>1</td>\n",
              "      <td>2</td>\n",
              "      <td>1</td>\n",
              "      <td>2</td>\n",
              "      <td>0</td>\n",
              "      <td>0</td>\n",
              "      <td>0</td>\n",
              "    </tr>\n",
              "    <tr>\n",
              "      <th>1</th>\n",
              "      <td>D</td>\n",
              "      <td>S</td>\n",
              "      <td>O</td>\n",
              "      <td>1</td>\n",
              "      <td>3</td>\n",
              "      <td>1</td>\n",
              "      <td>1</td>\n",
              "      <td>2</td>\n",
              "      <td>1</td>\n",
              "      <td>2</td>\n",
              "      <td>0</td>\n",
              "      <td>0</td>\n",
              "      <td>0</td>\n",
              "    </tr>\n",
              "    <tr>\n",
              "      <th>2</th>\n",
              "      <td>C</td>\n",
              "      <td>S</td>\n",
              "      <td>O</td>\n",
              "      <td>1</td>\n",
              "      <td>3</td>\n",
              "      <td>1</td>\n",
              "      <td>1</td>\n",
              "      <td>2</td>\n",
              "      <td>1</td>\n",
              "      <td>1</td>\n",
              "      <td>0</td>\n",
              "      <td>0</td>\n",
              "      <td>0</td>\n",
              "    </tr>\n",
              "    <tr>\n",
              "      <th>3</th>\n",
              "      <td>D</td>\n",
              "      <td>S</td>\n",
              "      <td>O</td>\n",
              "      <td>1</td>\n",
              "      <td>3</td>\n",
              "      <td>1</td>\n",
              "      <td>1</td>\n",
              "      <td>2</td>\n",
              "      <td>1</td>\n",
              "      <td>2</td>\n",
              "      <td>0</td>\n",
              "      <td>0</td>\n",
              "      <td>0</td>\n",
              "    </tr>\n",
              "    <tr>\n",
              "      <th>4</th>\n",
              "      <td>D</td>\n",
              "      <td>A</td>\n",
              "      <td>O</td>\n",
              "      <td>1</td>\n",
              "      <td>3</td>\n",
              "      <td>1</td>\n",
              "      <td>1</td>\n",
              "      <td>2</td>\n",
              "      <td>1</td>\n",
              "      <td>2</td>\n",
              "      <td>0</td>\n",
              "      <td>0</td>\n",
              "      <td>0</td>\n",
              "    </tr>\n",
              "    <tr>\n",
              "      <th>5</th>\n",
              "      <td>D</td>\n",
              "      <td>A</td>\n",
              "      <td>O</td>\n",
              "      <td>1</td>\n",
              "      <td>2</td>\n",
              "      <td>1</td>\n",
              "      <td>1</td>\n",
              "      <td>2</td>\n",
              "      <td>1</td>\n",
              "      <td>2</td>\n",
              "      <td>0</td>\n",
              "      <td>0</td>\n",
              "      <td>0</td>\n",
              "    </tr>\n",
              "    <tr>\n",
              "      <th>6</th>\n",
              "      <td>D</td>\n",
              "      <td>A</td>\n",
              "      <td>O</td>\n",
              "      <td>1</td>\n",
              "      <td>2</td>\n",
              "      <td>1</td>\n",
              "      <td>1</td>\n",
              "      <td>2</td>\n",
              "      <td>1</td>\n",
              "      <td>1</td>\n",
              "      <td>0</td>\n",
              "      <td>0</td>\n",
              "      <td>0</td>\n",
              "    </tr>\n",
              "    <tr>\n",
              "      <th>7</th>\n",
              "      <td>D</td>\n",
              "      <td>A</td>\n",
              "      <td>O</td>\n",
              "      <td>1</td>\n",
              "      <td>2</td>\n",
              "      <td>1</td>\n",
              "      <td>1</td>\n",
              "      <td>2</td>\n",
              "      <td>1</td>\n",
              "      <td>2</td>\n",
              "      <td>0</td>\n",
              "      <td>0</td>\n",
              "      <td>0</td>\n",
              "    </tr>\n",
              "    <tr>\n",
              "      <th>8</th>\n",
              "      <td>D</td>\n",
              "      <td>K</td>\n",
              "      <td>O</td>\n",
              "      <td>1</td>\n",
              "      <td>3</td>\n",
              "      <td>1</td>\n",
              "      <td>1</td>\n",
              "      <td>2</td>\n",
              "      <td>1</td>\n",
              "      <td>2</td>\n",
              "      <td>0</td>\n",
              "      <td>0</td>\n",
              "      <td>0</td>\n",
              "    </tr>\n",
              "    <tr>\n",
              "      <th>9</th>\n",
              "      <td>C</td>\n",
              "      <td>R</td>\n",
              "      <td>O</td>\n",
              "      <td>1</td>\n",
              "      <td>3</td>\n",
              "      <td>1</td>\n",
              "      <td>1</td>\n",
              "      <td>2</td>\n",
              "      <td>1</td>\n",
              "      <td>1</td>\n",
              "      <td>0</td>\n",
              "      <td>0</td>\n",
              "      <td>0</td>\n",
              "    </tr>\n",
              "  </tbody>\n",
              "</table>\n",
              "</div>\n",
              "    <div class=\"colab-df-buttons\">\n",
              "\n",
              "  <div class=\"colab-df-container\">\n",
              "    <button class=\"colab-df-convert\" onclick=\"convertToInteractive('df-8304bc18-5d93-4a7c-a29b-c290722a4eaf')\"\n",
              "            title=\"Convert this dataframe to an interactive table.\"\n",
              "            style=\"display:none;\">\n",
              "\n",
              "  <svg xmlns=\"http://www.w3.org/2000/svg\" height=\"24px\" viewBox=\"0 -960 960 960\">\n",
              "    <path d=\"M120-120v-720h720v720H120Zm60-500h600v-160H180v160Zm220 220h160v-160H400v160Zm0 220h160v-160H400v160ZM180-400h160v-160H180v160Zm440 0h160v-160H620v160ZM180-180h160v-160H180v160Zm440 0h160v-160H620v160Z\"/>\n",
              "  </svg>\n",
              "    </button>\n",
              "\n",
              "  <style>\n",
              "    .colab-df-container {\n",
              "      display:flex;\n",
              "      gap: 12px;\n",
              "    }\n",
              "\n",
              "    .colab-df-convert {\n",
              "      background-color: #E8F0FE;\n",
              "      border: none;\n",
              "      border-radius: 50%;\n",
              "      cursor: pointer;\n",
              "      display: none;\n",
              "      fill: #1967D2;\n",
              "      height: 32px;\n",
              "      padding: 0 0 0 0;\n",
              "      width: 32px;\n",
              "    }\n",
              "\n",
              "    .colab-df-convert:hover {\n",
              "      background-color: #E2EBFA;\n",
              "      box-shadow: 0px 1px 2px rgba(60, 64, 67, 0.3), 0px 1px 3px 1px rgba(60, 64, 67, 0.15);\n",
              "      fill: #174EA6;\n",
              "    }\n",
              "\n",
              "    .colab-df-buttons div {\n",
              "      margin-bottom: 4px;\n",
              "    }\n",
              "\n",
              "    [theme=dark] .colab-df-convert {\n",
              "      background-color: #3B4455;\n",
              "      fill: #D2E3FC;\n",
              "    }\n",
              "\n",
              "    [theme=dark] .colab-df-convert:hover {\n",
              "      background-color: #434B5C;\n",
              "      box-shadow: 0px 1px 3px 1px rgba(0, 0, 0, 0.15);\n",
              "      filter: drop-shadow(0px 1px 2px rgba(0, 0, 0, 0.3));\n",
              "      fill: #FFFFFF;\n",
              "    }\n",
              "  </style>\n",
              "\n",
              "    <script>\n",
              "      const buttonEl =\n",
              "        document.querySelector('#df-8304bc18-5d93-4a7c-a29b-c290722a4eaf button.colab-df-convert');\n",
              "      buttonEl.style.display =\n",
              "        google.colab.kernel.accessAllowed ? 'block' : 'none';\n",
              "\n",
              "      async function convertToInteractive(key) {\n",
              "        const element = document.querySelector('#df-8304bc18-5d93-4a7c-a29b-c290722a4eaf');\n",
              "        const dataTable =\n",
              "          await google.colab.kernel.invokeFunction('convertToInteractive',\n",
              "                                                    [key], {});\n",
              "        if (!dataTable) return;\n",
              "\n",
              "        const docLinkHtml = 'Like what you see? Visit the ' +\n",
              "          '<a target=\"_blank\" href=https://colab.research.google.com/notebooks/data_table.ipynb>data table notebook</a>'\n",
              "          + ' to learn more about interactive tables.';\n",
              "        element.innerHTML = '';\n",
              "        dataTable['output_type'] = 'display_data';\n",
              "        await google.colab.output.renderOutput(dataTable, element);\n",
              "        const docLink = document.createElement('div');\n",
              "        docLink.innerHTML = docLinkHtml;\n",
              "        element.appendChild(docLink);\n",
              "      }\n",
              "    </script>\n",
              "  </div>\n",
              "\n",
              "\n",
              "    <div id=\"df-dd531f70-1c67-4aee-847d-f556c220c72a\">\n",
              "      <button class=\"colab-df-quickchart\" onclick=\"quickchart('df-dd531f70-1c67-4aee-847d-f556c220c72a')\"\n",
              "                title=\"Suggest charts\"\n",
              "                style=\"display:none;\">\n",
              "\n",
              "<svg xmlns=\"http://www.w3.org/2000/svg\" height=\"24px\"viewBox=\"0 0 24 24\"\n",
              "     width=\"24px\">\n",
              "    <g>\n",
              "        <path d=\"M19 3H5c-1.1 0-2 .9-2 2v14c0 1.1.9 2 2 2h14c1.1 0 2-.9 2-2V5c0-1.1-.9-2-2-2zM9 17H7v-7h2v7zm4 0h-2V7h2v10zm4 0h-2v-4h2v4z\"/>\n",
              "    </g>\n",
              "</svg>\n",
              "      </button>\n",
              "\n",
              "<style>\n",
              "  .colab-df-quickchart {\n",
              "      --bg-color: #E8F0FE;\n",
              "      --fill-color: #1967D2;\n",
              "      --hover-bg-color: #E2EBFA;\n",
              "      --hover-fill-color: #174EA6;\n",
              "      --disabled-fill-color: #AAA;\n",
              "      --disabled-bg-color: #DDD;\n",
              "  }\n",
              "\n",
              "  [theme=dark] .colab-df-quickchart {\n",
              "      --bg-color: #3B4455;\n",
              "      --fill-color: #D2E3FC;\n",
              "      --hover-bg-color: #434B5C;\n",
              "      --hover-fill-color: #FFFFFF;\n",
              "      --disabled-bg-color: #3B4455;\n",
              "      --disabled-fill-color: #666;\n",
              "  }\n",
              "\n",
              "  .colab-df-quickchart {\n",
              "    background-color: var(--bg-color);\n",
              "    border: none;\n",
              "    border-radius: 50%;\n",
              "    cursor: pointer;\n",
              "    display: none;\n",
              "    fill: var(--fill-color);\n",
              "    height: 32px;\n",
              "    padding: 0;\n",
              "    width: 32px;\n",
              "  }\n",
              "\n",
              "  .colab-df-quickchart:hover {\n",
              "    background-color: var(--hover-bg-color);\n",
              "    box-shadow: 0 1px 2px rgba(60, 64, 67, 0.3), 0 1px 3px 1px rgba(60, 64, 67, 0.15);\n",
              "    fill: var(--button-hover-fill-color);\n",
              "  }\n",
              "\n",
              "  .colab-df-quickchart-complete:disabled,\n",
              "  .colab-df-quickchart-complete:disabled:hover {\n",
              "    background-color: var(--disabled-bg-color);\n",
              "    fill: var(--disabled-fill-color);\n",
              "    box-shadow: none;\n",
              "  }\n",
              "\n",
              "  .colab-df-spinner {\n",
              "    border: 2px solid var(--fill-color);\n",
              "    border-color: transparent;\n",
              "    border-bottom-color: var(--fill-color);\n",
              "    animation:\n",
              "      spin 1s steps(1) infinite;\n",
              "  }\n",
              "\n",
              "  @keyframes spin {\n",
              "    0% {\n",
              "      border-color: transparent;\n",
              "      border-bottom-color: var(--fill-color);\n",
              "      border-left-color: var(--fill-color);\n",
              "    }\n",
              "    20% {\n",
              "      border-color: transparent;\n",
              "      border-left-color: var(--fill-color);\n",
              "      border-top-color: var(--fill-color);\n",
              "    }\n",
              "    30% {\n",
              "      border-color: transparent;\n",
              "      border-left-color: var(--fill-color);\n",
              "      border-top-color: var(--fill-color);\n",
              "      border-right-color: var(--fill-color);\n",
              "    }\n",
              "    40% {\n",
              "      border-color: transparent;\n",
              "      border-right-color: var(--fill-color);\n",
              "      border-top-color: var(--fill-color);\n",
              "    }\n",
              "    60% {\n",
              "      border-color: transparent;\n",
              "      border-right-color: var(--fill-color);\n",
              "    }\n",
              "    80% {\n",
              "      border-color: transparent;\n",
              "      border-right-color: var(--fill-color);\n",
              "      border-bottom-color: var(--fill-color);\n",
              "    }\n",
              "    90% {\n",
              "      border-color: transparent;\n",
              "      border-bottom-color: var(--fill-color);\n",
              "    }\n",
              "  }\n",
              "</style>\n",
              "\n",
              "      <script>\n",
              "        async function quickchart(key) {\n",
              "          const quickchartButtonEl =\n",
              "            document.querySelector('#' + key + ' button');\n",
              "          quickchartButtonEl.disabled = true;  // To prevent multiple clicks.\n",
              "          quickchartButtonEl.classList.add('colab-df-spinner');\n",
              "          try {\n",
              "            const charts = await google.colab.kernel.invokeFunction(\n",
              "                'suggestCharts', [key], {});\n",
              "          } catch (error) {\n",
              "            console.error('Error during call to suggestCharts:', error);\n",
              "          }\n",
              "          quickchartButtonEl.classList.remove('colab-df-spinner');\n",
              "          quickchartButtonEl.classList.add('colab-df-quickchart-complete');\n",
              "        }\n",
              "        (() => {\n",
              "          let quickchartButtonEl =\n",
              "            document.querySelector('#df-dd531f70-1c67-4aee-847d-f556c220c72a button');\n",
              "          quickchartButtonEl.style.display =\n",
              "            google.colab.kernel.accessAllowed ? 'block' : 'none';\n",
              "        })();\n",
              "      </script>\n",
              "    </div>\n",
              "\n",
              "    </div>\n",
              "  </div>\n"
            ],
            "application/vnd.google.colaboratory.intrinsic+json": {
              "type": "dataframe",
              "variable_name": "solar_flare_df",
              "summary": "{\n  \"name\": \"solar_flare_df\",\n  \"rows\": 1389,\n  \"fields\": [\n    {\n      \"column\": \"modified Zurich class\",\n      \"properties\": {\n        \"dtype\": \"category\",\n        \"num_unique_values\": 6,\n        \"samples\": [\n          \"C\",\n          \"D\",\n          \"E\"\n        ],\n        \"semantic_type\": \"\",\n        \"description\": \"\"\n      }\n    },\n    {\n      \"column\": \"largest spot size\",\n      \"properties\": {\n        \"dtype\": \"category\",\n        \"num_unique_values\": 6,\n        \"samples\": [\n          \"S\",\n          \"A\",\n          \"H\"\n        ],\n        \"semantic_type\": \"\",\n        \"description\": \"\"\n      }\n    },\n    {\n      \"column\": \"spot distribution\",\n      \"properties\": {\n        \"dtype\": \"category\",\n        \"num_unique_values\": 4,\n        \"samples\": [\n          \"I\",\n          \"C\",\n          \"O\"\n        ],\n        \"semantic_type\": \"\",\n        \"description\": \"\"\n      }\n    },\n    {\n      \"column\": \"activity\",\n      \"properties\": {\n        \"dtype\": \"number\",\n        \"std\": 0,\n        \"min\": 1,\n        \"max\": 2,\n        \"num_unique_values\": 2,\n        \"samples\": [\n          2,\n          1\n        ],\n        \"semantic_type\": \"\",\n        \"description\": \"\"\n      }\n    },\n    {\n      \"column\": \"evolution\",\n      \"properties\": {\n        \"dtype\": \"number\",\n        \"std\": 0,\n        \"min\": 1,\n        \"max\": 3,\n        \"num_unique_values\": 3,\n        \"samples\": [\n          2,\n          3\n        ],\n        \"semantic_type\": \"\",\n        \"description\": \"\"\n      }\n    },\n    {\n      \"column\": \"previous 24 hour flare activity\",\n      \"properties\": {\n        \"dtype\": \"number\",\n        \"std\": 0,\n        \"min\": 1,\n        \"max\": 3,\n        \"num_unique_values\": 3,\n        \"samples\": [\n          1,\n          3\n        ],\n        \"semantic_type\": \"\",\n        \"description\": \"\"\n      }\n    },\n    {\n      \"column\": \"historically-complex\",\n      \"properties\": {\n        \"dtype\": \"number\",\n        \"std\": 0,\n        \"min\": 1,\n        \"max\": 2,\n        \"num_unique_values\": 2,\n        \"samples\": [\n          2,\n          1\n        ],\n        \"semantic_type\": \"\",\n        \"description\": \"\"\n      }\n    },\n    {\n      \"column\": \"became complex on this pass\",\n      \"properties\": {\n        \"dtype\": \"number\",\n        \"std\": 0,\n        \"min\": 1,\n        \"max\": 2,\n        \"num_unique_values\": 2,\n        \"samples\": [\n          1,\n          2\n        ],\n        \"semantic_type\": \"\",\n        \"description\": \"\"\n      }\n    },\n    {\n      \"column\": \"area\",\n      \"properties\": {\n        \"dtype\": \"number\",\n        \"std\": 0,\n        \"min\": 1,\n        \"max\": 2,\n        \"num_unique_values\": 2,\n        \"samples\": [\n          2,\n          1\n        ],\n        \"semantic_type\": \"\",\n        \"description\": \"\"\n      }\n    },\n    {\n      \"column\": \"area of largest spot\",\n      \"properties\": {\n        \"dtype\": \"number\",\n        \"std\": 0,\n        \"min\": 1,\n        \"max\": 2,\n        \"num_unique_values\": 2,\n        \"samples\": [\n          1,\n          2\n        ],\n        \"semantic_type\": \"\",\n        \"description\": \"\"\n      }\n    },\n    {\n      \"column\": \"common flares\",\n      \"properties\": {\n        \"dtype\": \"number\",\n        \"std\": 0,\n        \"min\": 0,\n        \"max\": 8,\n        \"num_unique_values\": 8,\n        \"samples\": [\n          1,\n          8\n        ],\n        \"semantic_type\": \"\",\n        \"description\": \"\"\n      }\n    },\n    {\n      \"column\": \"moderate flares\",\n      \"properties\": {\n        \"dtype\": \"number\",\n        \"std\": 0,\n        \"min\": 0,\n        \"max\": 5,\n        \"num_unique_values\": 6,\n        \"samples\": [\n          0,\n          1\n        ],\n        \"semantic_type\": \"\",\n        \"description\": \"\"\n      }\n    },\n    {\n      \"column\": \"severe flares\",\n      \"properties\": {\n        \"dtype\": \"number\",\n        \"std\": 0,\n        \"min\": 0,\n        \"max\": 2,\n        \"num_unique_values\": 3,\n        \"samples\": [\n          0,\n          1\n        ],\n        \"semantic_type\": \"\",\n        \"description\": \"\"\n      }\n    }\n  ]\n}"
            }
          },
          "metadata": {},
          "execution_count": 7
        }
      ]
    },
    {
      "cell_type": "code",
      "source": [
        "print(solar_flare_df.isna().sum())\n",
        "\n",
        "solar_flare_df.columns"
      ],
      "metadata": {
        "colab": {
          "base_uri": "https://localhost:8080/"
        },
        "id": "9btV85NXFziu",
        "outputId": "46cf81cd-bada-46e8-dd74-f16ecd02dffd"
      },
      "execution_count": 8,
      "outputs": [
        {
          "output_type": "stream",
          "name": "stdout",
          "text": [
            "modified Zurich class              0\n",
            "largest spot size                  0\n",
            "spot distribution                  0\n",
            "activity                           0\n",
            "evolution                          0\n",
            "previous 24 hour flare activity    0\n",
            "historically-complex               0\n",
            "became complex on this pass        0\n",
            "area                               0\n",
            "area of largest spot               0\n",
            "common flares                      0\n",
            "moderate flares                    0\n",
            "severe flares                      0\n",
            "dtype: int64\n"
          ]
        },
        {
          "output_type": "execute_result",
          "data": {
            "text/plain": [
              "Index(['modified Zurich class', 'largest spot size', 'spot distribution',\n",
              "       'activity', 'evolution', 'previous 24 hour flare activity',\n",
              "       'historically-complex', 'became complex on this pass', 'area',\n",
              "       'area of largest spot', 'common flares', 'moderate flares',\n",
              "       'severe flares'],\n",
              "      dtype='object')"
            ]
          },
          "metadata": {},
          "execution_count": 8
        }
      ]
    },
    {
      "cell_type": "code",
      "source": [
        "solar_flare_df.rename(columns = {'historically-complex' : 'Historically Complex' ,'modified Zurich class' : 'Modified Zurich Class', 'largest spot size' : 'Largest Spot Size' , 'spot distribution' :'Spot Distribution',\n",
        "       'activity' : 'Activity', 'evolution' : 'Evolution', 'previous 24 hour flare activity' : 'Previous 24 Hour Flare Activity',  'became complex on this pass' : 'Became Complex on this Pass', 'area' : 'Area',\n",
        "       'area of largest spot' : 'Area of Largest Spot', 'common flares' : ' Common Flares ', 'moderate flares' : 'Moderate Flares',\n",
        "       'severe flares' : 'Severe Flares'}, inplace = True)\n",
        "\n",
        "solar_flare_df.head()"
      ],
      "metadata": {
        "colab": {
          "base_uri": "https://localhost:8080/",
          "height": 224
        },
        "id": "pqw06VExGHVZ",
        "outputId": "bbcb33e5-c4d7-4ed1-99db-2fb7d1b25bcf"
      },
      "execution_count": 9,
      "outputs": [
        {
          "output_type": "execute_result",
          "data": {
            "text/plain": [
              "  Modified Zurich Class Largest Spot Size Spot Distribution  Activity  \\\n",
              "0                     C                 S                 O         1   \n",
              "1                     D                 S                 O         1   \n",
              "2                     C                 S                 O         1   \n",
              "3                     D                 S                 O         1   \n",
              "4                     D                 A                 O         1   \n",
              "\n",
              "   Evolution  Previous 24 Hour Flare Activity  Historically Complex  \\\n",
              "0          2                                1                     1   \n",
              "1          3                                1                     1   \n",
              "2          3                                1                     1   \n",
              "3          3                                1                     1   \n",
              "4          3                                1                     1   \n",
              "\n",
              "   Became Complex on this Pass  Area  Area of Largest Spot   Common Flares   \\\n",
              "0                            2     1                     2                0   \n",
              "1                            2     1                     2                0   \n",
              "2                            2     1                     1                0   \n",
              "3                            2     1                     2                0   \n",
              "4                            2     1                     2                0   \n",
              "\n",
              "   Moderate Flares  Severe Flares  \n",
              "0                0              0  \n",
              "1                0              0  \n",
              "2                0              0  \n",
              "3                0              0  \n",
              "4                0              0  "
            ],
            "text/html": [
              "\n",
              "  <div id=\"df-14963cce-11df-4912-8b85-900d373c7047\" class=\"colab-df-container\">\n",
              "    <div>\n",
              "<style scoped>\n",
              "    .dataframe tbody tr th:only-of-type {\n",
              "        vertical-align: middle;\n",
              "    }\n",
              "\n",
              "    .dataframe tbody tr th {\n",
              "        vertical-align: top;\n",
              "    }\n",
              "\n",
              "    .dataframe thead th {\n",
              "        text-align: right;\n",
              "    }\n",
              "</style>\n",
              "<table border=\"1\" class=\"dataframe\">\n",
              "  <thead>\n",
              "    <tr style=\"text-align: right;\">\n",
              "      <th></th>\n",
              "      <th>Modified Zurich Class</th>\n",
              "      <th>Largest Spot Size</th>\n",
              "      <th>Spot Distribution</th>\n",
              "      <th>Activity</th>\n",
              "      <th>Evolution</th>\n",
              "      <th>Previous 24 Hour Flare Activity</th>\n",
              "      <th>Historically Complex</th>\n",
              "      <th>Became Complex on this Pass</th>\n",
              "      <th>Area</th>\n",
              "      <th>Area of Largest Spot</th>\n",
              "      <th>Common Flares</th>\n",
              "      <th>Moderate Flares</th>\n",
              "      <th>Severe Flares</th>\n",
              "    </tr>\n",
              "  </thead>\n",
              "  <tbody>\n",
              "    <tr>\n",
              "      <th>0</th>\n",
              "      <td>C</td>\n",
              "      <td>S</td>\n",
              "      <td>O</td>\n",
              "      <td>1</td>\n",
              "      <td>2</td>\n",
              "      <td>1</td>\n",
              "      <td>1</td>\n",
              "      <td>2</td>\n",
              "      <td>1</td>\n",
              "      <td>2</td>\n",
              "      <td>0</td>\n",
              "      <td>0</td>\n",
              "      <td>0</td>\n",
              "    </tr>\n",
              "    <tr>\n",
              "      <th>1</th>\n",
              "      <td>D</td>\n",
              "      <td>S</td>\n",
              "      <td>O</td>\n",
              "      <td>1</td>\n",
              "      <td>3</td>\n",
              "      <td>1</td>\n",
              "      <td>1</td>\n",
              "      <td>2</td>\n",
              "      <td>1</td>\n",
              "      <td>2</td>\n",
              "      <td>0</td>\n",
              "      <td>0</td>\n",
              "      <td>0</td>\n",
              "    </tr>\n",
              "    <tr>\n",
              "      <th>2</th>\n",
              "      <td>C</td>\n",
              "      <td>S</td>\n",
              "      <td>O</td>\n",
              "      <td>1</td>\n",
              "      <td>3</td>\n",
              "      <td>1</td>\n",
              "      <td>1</td>\n",
              "      <td>2</td>\n",
              "      <td>1</td>\n",
              "      <td>1</td>\n",
              "      <td>0</td>\n",
              "      <td>0</td>\n",
              "      <td>0</td>\n",
              "    </tr>\n",
              "    <tr>\n",
              "      <th>3</th>\n",
              "      <td>D</td>\n",
              "      <td>S</td>\n",
              "      <td>O</td>\n",
              "      <td>1</td>\n",
              "      <td>3</td>\n",
              "      <td>1</td>\n",
              "      <td>1</td>\n",
              "      <td>2</td>\n",
              "      <td>1</td>\n",
              "      <td>2</td>\n",
              "      <td>0</td>\n",
              "      <td>0</td>\n",
              "      <td>0</td>\n",
              "    </tr>\n",
              "    <tr>\n",
              "      <th>4</th>\n",
              "      <td>D</td>\n",
              "      <td>A</td>\n",
              "      <td>O</td>\n",
              "      <td>1</td>\n",
              "      <td>3</td>\n",
              "      <td>1</td>\n",
              "      <td>1</td>\n",
              "      <td>2</td>\n",
              "      <td>1</td>\n",
              "      <td>2</td>\n",
              "      <td>0</td>\n",
              "      <td>0</td>\n",
              "      <td>0</td>\n",
              "    </tr>\n",
              "  </tbody>\n",
              "</table>\n",
              "</div>\n",
              "    <div class=\"colab-df-buttons\">\n",
              "\n",
              "  <div class=\"colab-df-container\">\n",
              "    <button class=\"colab-df-convert\" onclick=\"convertToInteractive('df-14963cce-11df-4912-8b85-900d373c7047')\"\n",
              "            title=\"Convert this dataframe to an interactive table.\"\n",
              "            style=\"display:none;\">\n",
              "\n",
              "  <svg xmlns=\"http://www.w3.org/2000/svg\" height=\"24px\" viewBox=\"0 -960 960 960\">\n",
              "    <path d=\"M120-120v-720h720v720H120Zm60-500h600v-160H180v160Zm220 220h160v-160H400v160Zm0 220h160v-160H400v160ZM180-400h160v-160H180v160Zm440 0h160v-160H620v160ZM180-180h160v-160H180v160Zm440 0h160v-160H620v160Z\"/>\n",
              "  </svg>\n",
              "    </button>\n",
              "\n",
              "  <style>\n",
              "    .colab-df-container {\n",
              "      display:flex;\n",
              "      gap: 12px;\n",
              "    }\n",
              "\n",
              "    .colab-df-convert {\n",
              "      background-color: #E8F0FE;\n",
              "      border: none;\n",
              "      border-radius: 50%;\n",
              "      cursor: pointer;\n",
              "      display: none;\n",
              "      fill: #1967D2;\n",
              "      height: 32px;\n",
              "      padding: 0 0 0 0;\n",
              "      width: 32px;\n",
              "    }\n",
              "\n",
              "    .colab-df-convert:hover {\n",
              "      background-color: #E2EBFA;\n",
              "      box-shadow: 0px 1px 2px rgba(60, 64, 67, 0.3), 0px 1px 3px 1px rgba(60, 64, 67, 0.15);\n",
              "      fill: #174EA6;\n",
              "    }\n",
              "\n",
              "    .colab-df-buttons div {\n",
              "      margin-bottom: 4px;\n",
              "    }\n",
              "\n",
              "    [theme=dark] .colab-df-convert {\n",
              "      background-color: #3B4455;\n",
              "      fill: #D2E3FC;\n",
              "    }\n",
              "\n",
              "    [theme=dark] .colab-df-convert:hover {\n",
              "      background-color: #434B5C;\n",
              "      box-shadow: 0px 1px 3px 1px rgba(0, 0, 0, 0.15);\n",
              "      filter: drop-shadow(0px 1px 2px rgba(0, 0, 0, 0.3));\n",
              "      fill: #FFFFFF;\n",
              "    }\n",
              "  </style>\n",
              "\n",
              "    <script>\n",
              "      const buttonEl =\n",
              "        document.querySelector('#df-14963cce-11df-4912-8b85-900d373c7047 button.colab-df-convert');\n",
              "      buttonEl.style.display =\n",
              "        google.colab.kernel.accessAllowed ? 'block' : 'none';\n",
              "\n",
              "      async function convertToInteractive(key) {\n",
              "        const element = document.querySelector('#df-14963cce-11df-4912-8b85-900d373c7047');\n",
              "        const dataTable =\n",
              "          await google.colab.kernel.invokeFunction('convertToInteractive',\n",
              "                                                    [key], {});\n",
              "        if (!dataTable) return;\n",
              "\n",
              "        const docLinkHtml = 'Like what you see? Visit the ' +\n",
              "          '<a target=\"_blank\" href=https://colab.research.google.com/notebooks/data_table.ipynb>data table notebook</a>'\n",
              "          + ' to learn more about interactive tables.';\n",
              "        element.innerHTML = '';\n",
              "        dataTable['output_type'] = 'display_data';\n",
              "        await google.colab.output.renderOutput(dataTable, element);\n",
              "        const docLink = document.createElement('div');\n",
              "        docLink.innerHTML = docLinkHtml;\n",
              "        element.appendChild(docLink);\n",
              "      }\n",
              "    </script>\n",
              "  </div>\n",
              "\n",
              "\n",
              "    <div id=\"df-2aedabd4-75d2-4ab0-9f32-63280bb78e67\">\n",
              "      <button class=\"colab-df-quickchart\" onclick=\"quickchart('df-2aedabd4-75d2-4ab0-9f32-63280bb78e67')\"\n",
              "                title=\"Suggest charts\"\n",
              "                style=\"display:none;\">\n",
              "\n",
              "<svg xmlns=\"http://www.w3.org/2000/svg\" height=\"24px\"viewBox=\"0 0 24 24\"\n",
              "     width=\"24px\">\n",
              "    <g>\n",
              "        <path d=\"M19 3H5c-1.1 0-2 .9-2 2v14c0 1.1.9 2 2 2h14c1.1 0 2-.9 2-2V5c0-1.1-.9-2-2-2zM9 17H7v-7h2v7zm4 0h-2V7h2v10zm4 0h-2v-4h2v4z\"/>\n",
              "    </g>\n",
              "</svg>\n",
              "      </button>\n",
              "\n",
              "<style>\n",
              "  .colab-df-quickchart {\n",
              "      --bg-color: #E8F0FE;\n",
              "      --fill-color: #1967D2;\n",
              "      --hover-bg-color: #E2EBFA;\n",
              "      --hover-fill-color: #174EA6;\n",
              "      --disabled-fill-color: #AAA;\n",
              "      --disabled-bg-color: #DDD;\n",
              "  }\n",
              "\n",
              "  [theme=dark] .colab-df-quickchart {\n",
              "      --bg-color: #3B4455;\n",
              "      --fill-color: #D2E3FC;\n",
              "      --hover-bg-color: #434B5C;\n",
              "      --hover-fill-color: #FFFFFF;\n",
              "      --disabled-bg-color: #3B4455;\n",
              "      --disabled-fill-color: #666;\n",
              "  }\n",
              "\n",
              "  .colab-df-quickchart {\n",
              "    background-color: var(--bg-color);\n",
              "    border: none;\n",
              "    border-radius: 50%;\n",
              "    cursor: pointer;\n",
              "    display: none;\n",
              "    fill: var(--fill-color);\n",
              "    height: 32px;\n",
              "    padding: 0;\n",
              "    width: 32px;\n",
              "  }\n",
              "\n",
              "  .colab-df-quickchart:hover {\n",
              "    background-color: var(--hover-bg-color);\n",
              "    box-shadow: 0 1px 2px rgba(60, 64, 67, 0.3), 0 1px 3px 1px rgba(60, 64, 67, 0.15);\n",
              "    fill: var(--button-hover-fill-color);\n",
              "  }\n",
              "\n",
              "  .colab-df-quickchart-complete:disabled,\n",
              "  .colab-df-quickchart-complete:disabled:hover {\n",
              "    background-color: var(--disabled-bg-color);\n",
              "    fill: var(--disabled-fill-color);\n",
              "    box-shadow: none;\n",
              "  }\n",
              "\n",
              "  .colab-df-spinner {\n",
              "    border: 2px solid var(--fill-color);\n",
              "    border-color: transparent;\n",
              "    border-bottom-color: var(--fill-color);\n",
              "    animation:\n",
              "      spin 1s steps(1) infinite;\n",
              "  }\n",
              "\n",
              "  @keyframes spin {\n",
              "    0% {\n",
              "      border-color: transparent;\n",
              "      border-bottom-color: var(--fill-color);\n",
              "      border-left-color: var(--fill-color);\n",
              "    }\n",
              "    20% {\n",
              "      border-color: transparent;\n",
              "      border-left-color: var(--fill-color);\n",
              "      border-top-color: var(--fill-color);\n",
              "    }\n",
              "    30% {\n",
              "      border-color: transparent;\n",
              "      border-left-color: var(--fill-color);\n",
              "      border-top-color: var(--fill-color);\n",
              "      border-right-color: var(--fill-color);\n",
              "    }\n",
              "    40% {\n",
              "      border-color: transparent;\n",
              "      border-right-color: var(--fill-color);\n",
              "      border-top-color: var(--fill-color);\n",
              "    }\n",
              "    60% {\n",
              "      border-color: transparent;\n",
              "      border-right-color: var(--fill-color);\n",
              "    }\n",
              "    80% {\n",
              "      border-color: transparent;\n",
              "      border-right-color: var(--fill-color);\n",
              "      border-bottom-color: var(--fill-color);\n",
              "    }\n",
              "    90% {\n",
              "      border-color: transparent;\n",
              "      border-bottom-color: var(--fill-color);\n",
              "    }\n",
              "  }\n",
              "</style>\n",
              "\n",
              "      <script>\n",
              "        async function quickchart(key) {\n",
              "          const quickchartButtonEl =\n",
              "            document.querySelector('#' + key + ' button');\n",
              "          quickchartButtonEl.disabled = true;  // To prevent multiple clicks.\n",
              "          quickchartButtonEl.classList.add('colab-df-spinner');\n",
              "          try {\n",
              "            const charts = await google.colab.kernel.invokeFunction(\n",
              "                'suggestCharts', [key], {});\n",
              "          } catch (error) {\n",
              "            console.error('Error during call to suggestCharts:', error);\n",
              "          }\n",
              "          quickchartButtonEl.classList.remove('colab-df-spinner');\n",
              "          quickchartButtonEl.classList.add('colab-df-quickchart-complete');\n",
              "        }\n",
              "        (() => {\n",
              "          let quickchartButtonEl =\n",
              "            document.querySelector('#df-2aedabd4-75d2-4ab0-9f32-63280bb78e67 button');\n",
              "          quickchartButtonEl.style.display =\n",
              "            google.colab.kernel.accessAllowed ? 'block' : 'none';\n",
              "        })();\n",
              "      </script>\n",
              "    </div>\n",
              "\n",
              "    </div>\n",
              "  </div>\n"
            ],
            "application/vnd.google.colaboratory.intrinsic+json": {
              "type": "dataframe",
              "variable_name": "solar_flare_df",
              "summary": "{\n  \"name\": \"solar_flare_df\",\n  \"rows\": 1389,\n  \"fields\": [\n    {\n      \"column\": \"Modified Zurich Class\",\n      \"properties\": {\n        \"dtype\": \"category\",\n        \"num_unique_values\": 6,\n        \"samples\": [\n          \"C\",\n          \"D\",\n          \"E\"\n        ],\n        \"semantic_type\": \"\",\n        \"description\": \"\"\n      }\n    },\n    {\n      \"column\": \"Largest Spot Size\",\n      \"properties\": {\n        \"dtype\": \"category\",\n        \"num_unique_values\": 6,\n        \"samples\": [\n          \"S\",\n          \"A\",\n          \"H\"\n        ],\n        \"semantic_type\": \"\",\n        \"description\": \"\"\n      }\n    },\n    {\n      \"column\": \"Spot Distribution\",\n      \"properties\": {\n        \"dtype\": \"category\",\n        \"num_unique_values\": 4,\n        \"samples\": [\n          \"I\",\n          \"C\",\n          \"O\"\n        ],\n        \"semantic_type\": \"\",\n        \"description\": \"\"\n      }\n    },\n    {\n      \"column\": \"Activity\",\n      \"properties\": {\n        \"dtype\": \"number\",\n        \"std\": 0,\n        \"min\": 1,\n        \"max\": 2,\n        \"num_unique_values\": 2,\n        \"samples\": [\n          2,\n          1\n        ],\n        \"semantic_type\": \"\",\n        \"description\": \"\"\n      }\n    },\n    {\n      \"column\": \"Evolution\",\n      \"properties\": {\n        \"dtype\": \"number\",\n        \"std\": 0,\n        \"min\": 1,\n        \"max\": 3,\n        \"num_unique_values\": 3,\n        \"samples\": [\n          2,\n          3\n        ],\n        \"semantic_type\": \"\",\n        \"description\": \"\"\n      }\n    },\n    {\n      \"column\": \"Previous 24 Hour Flare Activity\",\n      \"properties\": {\n        \"dtype\": \"number\",\n        \"std\": 0,\n        \"min\": 1,\n        \"max\": 3,\n        \"num_unique_values\": 3,\n        \"samples\": [\n          1,\n          3\n        ],\n        \"semantic_type\": \"\",\n        \"description\": \"\"\n      }\n    },\n    {\n      \"column\": \"Historically Complex\",\n      \"properties\": {\n        \"dtype\": \"number\",\n        \"std\": 0,\n        \"min\": 1,\n        \"max\": 2,\n        \"num_unique_values\": 2,\n        \"samples\": [\n          2,\n          1\n        ],\n        \"semantic_type\": \"\",\n        \"description\": \"\"\n      }\n    },\n    {\n      \"column\": \"Became Complex on this Pass\",\n      \"properties\": {\n        \"dtype\": \"number\",\n        \"std\": 0,\n        \"min\": 1,\n        \"max\": 2,\n        \"num_unique_values\": 2,\n        \"samples\": [\n          1,\n          2\n        ],\n        \"semantic_type\": \"\",\n        \"description\": \"\"\n      }\n    },\n    {\n      \"column\": \"Area\",\n      \"properties\": {\n        \"dtype\": \"number\",\n        \"std\": 0,\n        \"min\": 1,\n        \"max\": 2,\n        \"num_unique_values\": 2,\n        \"samples\": [\n          2,\n          1\n        ],\n        \"semantic_type\": \"\",\n        \"description\": \"\"\n      }\n    },\n    {\n      \"column\": \"Area of Largest Spot\",\n      \"properties\": {\n        \"dtype\": \"number\",\n        \"std\": 0,\n        \"min\": 1,\n        \"max\": 2,\n        \"num_unique_values\": 2,\n        \"samples\": [\n          1,\n          2\n        ],\n        \"semantic_type\": \"\",\n        \"description\": \"\"\n      }\n    },\n    {\n      \"column\": \" Common Flares \",\n      \"properties\": {\n        \"dtype\": \"number\",\n        \"std\": 0,\n        \"min\": 0,\n        \"max\": 8,\n        \"num_unique_values\": 8,\n        \"samples\": [\n          1,\n          8\n        ],\n        \"semantic_type\": \"\",\n        \"description\": \"\"\n      }\n    },\n    {\n      \"column\": \"Moderate Flares\",\n      \"properties\": {\n        \"dtype\": \"number\",\n        \"std\": 0,\n        \"min\": 0,\n        \"max\": 5,\n        \"num_unique_values\": 6,\n        \"samples\": [\n          0,\n          1\n        ],\n        \"semantic_type\": \"\",\n        \"description\": \"\"\n      }\n    },\n    {\n      \"column\": \"Severe Flares\",\n      \"properties\": {\n        \"dtype\": \"number\",\n        \"std\": 0,\n        \"min\": 0,\n        \"max\": 2,\n        \"num_unique_values\": 3,\n        \"samples\": [\n          0,\n          1\n        ],\n        \"semantic_type\": \"\",\n        \"description\": \"\"\n      }\n    }\n  ]\n}"
            }
          },
          "metadata": {},
          "execution_count": 9
        }
      ]
    },
    {
      "cell_type": "code",
      "source": [
        "solar_flare_df.columns = solar_flare_df.columns.str.strip()\n",
        "flare_types = ['Common Flares', 'Moderate Flares', 'Severe Flares']\n",
        "print(solar_flare_df[flare_types].describe())\n",
        "print(solar_flare_df['Modified Zurich Class'].unique())\n"
      ],
      "metadata": {
        "colab": {
          "base_uri": "https://localhost:8080/"
        },
        "id": "2geLsZNPWe20",
        "outputId": "eb30064f-f0d8-465b-bf76-a0f8ce5398bb"
      },
      "execution_count": 10,
      "outputs": [
        {
          "output_type": "stream",
          "name": "stdout",
          "text": [
            "       Common Flares  Moderate Flares  Severe Flares\n",
            "count    1389.000000      1389.000000    1389.000000\n",
            "mean        0.261339         0.067675       0.009359\n",
            "std         0.760201         0.353695       0.103534\n",
            "min         0.000000         0.000000       0.000000\n",
            "25%         0.000000         0.000000       0.000000\n",
            "50%         0.000000         0.000000       0.000000\n",
            "75%         0.000000         0.000000       0.000000\n",
            "max         8.000000         5.000000       2.000000\n",
            "['C' 'D' 'B' 'F' 'H' 'E']\n"
          ]
        }
      ]
    },
    {
      "cell_type": "code",
      "source": [
        "solar_flare_df.dtypes"
      ],
      "metadata": {
        "colab": {
          "base_uri": "https://localhost:8080/",
          "height": 492
        },
        "id": "5-4ml2mxGhQr",
        "outputId": "b808a23a-1f32-4efd-bc02-215cac502418"
      },
      "execution_count": 11,
      "outputs": [
        {
          "output_type": "execute_result",
          "data": {
            "text/plain": [
              "Modified Zurich Class              object\n",
              "Largest Spot Size                  object\n",
              "Spot Distribution                  object\n",
              "Activity                            int64\n",
              "Evolution                           int64\n",
              "Previous 24 Hour Flare Activity     int64\n",
              "Historically Complex                int64\n",
              "Became Complex on this Pass         int64\n",
              "Area                                int64\n",
              "Area of Largest Spot                int64\n",
              "Common Flares                       int64\n",
              "Moderate Flares                     int64\n",
              "Severe Flares                       int64\n",
              "dtype: object"
            ],
            "text/html": [
              "<div>\n",
              "<style scoped>\n",
              "    .dataframe tbody tr th:only-of-type {\n",
              "        vertical-align: middle;\n",
              "    }\n",
              "\n",
              "    .dataframe tbody tr th {\n",
              "        vertical-align: top;\n",
              "    }\n",
              "\n",
              "    .dataframe thead th {\n",
              "        text-align: right;\n",
              "    }\n",
              "</style>\n",
              "<table border=\"1\" class=\"dataframe\">\n",
              "  <thead>\n",
              "    <tr style=\"text-align: right;\">\n",
              "      <th></th>\n",
              "      <th>0</th>\n",
              "    </tr>\n",
              "  </thead>\n",
              "  <tbody>\n",
              "    <tr>\n",
              "      <th>Modified Zurich Class</th>\n",
              "      <td>object</td>\n",
              "    </tr>\n",
              "    <tr>\n",
              "      <th>Largest Spot Size</th>\n",
              "      <td>object</td>\n",
              "    </tr>\n",
              "    <tr>\n",
              "      <th>Spot Distribution</th>\n",
              "      <td>object</td>\n",
              "    </tr>\n",
              "    <tr>\n",
              "      <th>Activity</th>\n",
              "      <td>int64</td>\n",
              "    </tr>\n",
              "    <tr>\n",
              "      <th>Evolution</th>\n",
              "      <td>int64</td>\n",
              "    </tr>\n",
              "    <tr>\n",
              "      <th>Previous 24 Hour Flare Activity</th>\n",
              "      <td>int64</td>\n",
              "    </tr>\n",
              "    <tr>\n",
              "      <th>Historically Complex</th>\n",
              "      <td>int64</td>\n",
              "    </tr>\n",
              "    <tr>\n",
              "      <th>Became Complex on this Pass</th>\n",
              "      <td>int64</td>\n",
              "    </tr>\n",
              "    <tr>\n",
              "      <th>Area</th>\n",
              "      <td>int64</td>\n",
              "    </tr>\n",
              "    <tr>\n",
              "      <th>Area of Largest Spot</th>\n",
              "      <td>int64</td>\n",
              "    </tr>\n",
              "    <tr>\n",
              "      <th>Common Flares</th>\n",
              "      <td>int64</td>\n",
              "    </tr>\n",
              "    <tr>\n",
              "      <th>Moderate Flares</th>\n",
              "      <td>int64</td>\n",
              "    </tr>\n",
              "    <tr>\n",
              "      <th>Severe Flares</th>\n",
              "      <td>int64</td>\n",
              "    </tr>\n",
              "  </tbody>\n",
              "</table>\n",
              "</div><br><label><b>dtype:</b> object</label>"
            ]
          },
          "metadata": {},
          "execution_count": 11
        }
      ]
    },
    {
      "cell_type": "code",
      "source": [
        "#solar_flare_df = solar_flare_df.drop_duplicates()\n",
        "solar_flare_df.duplicated().sum()"
      ],
      "metadata": {
        "colab": {
          "base_uri": "https://localhost:8080/"
        },
        "id": "OvW9_z9yGjwF",
        "outputId": "7d538148-c1ad-4155-a53b-5db04ca5ad9d"
      },
      "execution_count": 12,
      "outputs": [
        {
          "output_type": "execute_result",
          "data": {
            "text/plain": [
              "np.int64(862)"
            ]
          },
          "metadata": {},
          "execution_count": 12
        }
      ]
    },
    {
      "cell_type": "code",
      "source": [
        "solar_flare_df.columns = solar_flare_df.columns.str.strip()\n",
        "\n",
        "print(solar_flare_df.columns.tolist())\n",
        "\n",
        "categories = ['Common Flares', 'Moderate Flares', 'Severe Flares']\n",
        "\n",
        "flare_counts = solar_flare_df[categories].sum()\n",
        "\n",
        "plt.bar(categories, flare_counts.values, color=['skyblue', 'orange', 'red'])\n",
        "plt.ylabel('Number of Flares')\n",
        "plt.title('Total Number of Solar Flares by Class')\n",
        "plt.show()\n",
        "\n"
      ],
      "metadata": {
        "colab": {
          "base_uri": "https://localhost:8080/",
          "height": 489
        },
        "id": "2BCqmSyOKRWP",
        "outputId": "64d49597-b75d-4656-a772-9a2c1dac5c64"
      },
      "execution_count": 13,
      "outputs": [
        {
          "output_type": "stream",
          "name": "stdout",
          "text": [
            "['Modified Zurich Class', 'Largest Spot Size', 'Spot Distribution', 'Activity', 'Evolution', 'Previous 24 Hour Flare Activity', 'Historically Complex', 'Became Complex on this Pass', 'Area', 'Area of Largest Spot', 'Common Flares', 'Moderate Flares', 'Severe Flares']\n"
          ]
        },
        {
          "output_type": "display_data",
          "data": {
            "text/plain": [
              "<Figure size 640x480 with 1 Axes>"
            ],
            "image/png": "[encoded data removed]"
          },
          "metadata": {}
        }
      ]
    },
    {
      "cell_type": "code",
      "source": [
        "categories = solar_flare_df['Modified Zurich Class'].unique()\n",
        "\n",
        "zurich_counts = solar_flare_df['Modified Zurich Class'].value_counts()\n",
        "\n",
        "plt.bar(categories, zurich_counts.values, color='mediumseagreen')\n",
        "plt.ylabel('Count')\n",
        "plt.xlabel ('Modified Zurich Classes')\n",
        "plt.title('Frequency of Modified Zurich Classes')\n",
        "plt.show()\n"
      ],
      "metadata": {
        "colab": {
          "base_uri": "https://localhost:8080/",
          "height": 472
        },
        "id": "LRFRgs01L08O",
        "outputId": "7d2ec05a-181a-4277-d620-4914a92392ea"
      },
      "execution_count": 14,
      "outputs": [
        {
          "output_type": "display_data",
          "data": {
            "text/plain": [
              "<Figure size 640x480 with 1 Axes>"
            ],
            "image/png": "[encoded data removed]"
          },
          "metadata": {}
        }
      ]
    },
    {
      "cell_type": "markdown",
      "source": [
        "1. How does sunspot complexity (Zurich Class) affect the number of solar flares in a 24-hour period?"
      ],
      "metadata": {
        "id": "EPCJxc7hVW-p"
      }
    },
    {
      "cell_type": "markdown",
      "source": [
        "2. What factors best predict the number of severe solar flares?"
      ],
      "metadata": {
        "id": "c5MbizRSJIJ7"
      }
    },
    {
      "cell_type": "markdown",
      "source": [
        "3. How do spot size and distribution influence the severity of solar flare activity?"
      ],
      "metadata": {
        "id": "ZKPyOKQ3JLQg"
      }
    },
    {
      "cell_type": "code",
      "source": [
        "solar_flare_df.columns = solar_flare_df.columns.str.strip()\n",
        "\n",
        "zurich_avg_c = solar_flare_df.groupby('Modified Zurich Class')['Common Flares'].mean()\n",
        "\n",
        "zurich_avg_c = zurich_avg_c.sort_index()\n",
        "\n",
        "plt.plot(zurich_avg_c.index, zurich_avg_c.values, color='skyblue')\n",
        "plt.title('Average C-Class Flares by Zurich Class')\n",
        "plt.xlabel('Zurich Class')\n",
        "plt.ylabel('Avg C-Class Flares')\n",
        "plt.show()"
      ],
      "metadata": {
        "colab": {
          "base_uri": "https://localhost:8080/",
          "height": 472
        },
        "id": "BJBgzZC2QKcc",
        "outputId": "c4873ca6-4a78-4351-e625-bd6415eb1096"
      },
      "execution_count": 15,
      "outputs": [
        {
          "output_type": "display_data",
          "data": {
            "text/plain": [
              "<Figure size 640x480 with 1 Axes>"
            ],
            "image/png": "[encoded data removed]"
          },
          "metadata": {}
        }
      ]
    },
    {
      "cell_type": "code",
      "source": [
        "solar_flare_df.columns = solar_flare_df.columns.str.strip()\n",
        "\n",
        "zurich_avg_M = solar_flare_df.groupby('Modified Zurich Class')['Moderate Flares'].mean()\n",
        "\n",
        "zurich_avg_M = zurich_avg_M.sort_index()\n",
        "\n",
        "plt.plot(zurich_avg_M.index, zurich_avg_M.values, color='orange')\n",
        "plt.title('Average M-Class Flares by Zurich Class')\n",
        "plt.xlabel('Zurich Class')\n",
        "plt.ylabel('Avg M-Class Flares')\n",
        "plt.show()"
      ],
      "metadata": {
        "colab": {
          "base_uri": "https://localhost:8080/",
          "height": 472
        },
        "id": "53R3x8QnSIfo",
        "outputId": "45aecbf1-19d6-4fa7-fc81-379d45800e0a"
      },
      "execution_count": 16,
      "outputs": [
        {
          "output_type": "display_data",
          "data": {
            "text/plain": [
              "<Figure size 640x480 with 1 Axes>"
            ],
            "image/png": "[encoded data removed]"
          },
          "metadata": {}
        }
      ]
    },
    {
      "cell_type": "code",
      "source": [
        "solar_flare_df.columns = solar_flare_df.columns.str.strip()\n",
        "\n",
        "zurich_avg_X = solar_flare_df.groupby('Modified Zurich Class')['Severe Flares'].mean()\n",
        "\n",
        "zurich_avg_X = zurich_avg_X.sort_index()\n",
        "\n",
        "plt.plot(zurich_avg_X.index, zurich_avg_X.values, color='red')\n",
        "plt.title('Average X-Class Flares by Zurich Class')\n",
        "plt.xlabel('Zurich Class')\n",
        "plt.ylabel('Avg X-Class Flares')\n",
        "plt.show()"
      ],
      "metadata": {
        "colab": {
          "base_uri": "https://localhost:8080/",
          "height": 472
        },
        "id": "7IPjHI_fSxtI",
        "outputId": "65f3b476-f659-4e54-f119-ed8470f3e796"
      },
      "execution_count": 17,
      "outputs": [
        {
          "output_type": "display_data",
          "data": {
            "text/plain": [
              "<Figure size 640x480 with 1 Axes>"
            ],
            "image/png": "[encoded data removed]"
          },
          "metadata": {}
        }
      ]
    },
    {
      "cell_type": "code",
      "source": [
        "zurich_avg_X.values"
      ],
      "metadata": {
        "colab": {
          "base_uri": "https://localhost:8080/"
        },
        "id": "TDQVmv6qXlnG",
        "outputId": "4cb04a2c-895b-42e4-db0b-c34633ddcebe"
      },
      "execution_count": 18,
      "outputs": [
        {
          "output_type": "execute_result",
          "data": {
            "text/plain": [
              "array([0.        , 0.        , 0.02140673, 0.01724138, 0.03921569,\n",
              "       0.00505051])"
            ]
          },
          "metadata": {},
          "execution_count": 18
        }
      ]
    },
    {
      "cell_type": "code",
      "source": [
        "flare_types = ['Common Flares', 'Moderate Flares', 'Severe Flares']\n",
        "\n",
        "flare_totals = solar_flare_df.groupby('Modified Zurich Class')[flare_types].sum()\n",
        "\n",
        "flare_totals.plot(kind='bar',  figsize=(10, 6), color=['skyblue', 'orange', 'red'])\n",
        "plt.xticks(rotation=0)\n",
        "plt.title('Total Solar Flares by Zurich Class')\n",
        "plt.xlabel('Modified Zurich Class')\n",
        "plt.ylabel('Total Number of Flares')\n",
        "plt.legend(title='Flare Type')\n",
        "plt.grid(axis='y')\n",
        "plt.tight_layout()\n",
        "plt.show()\n"
      ],
      "metadata": {
        "colab": {
          "base_uri": "https://localhost:8080/",
          "height": 607
        },
        "id": "P7kw7nYOUrMT",
        "outputId": "57371b71-cddf-466b-d6c3-78063db5bd19"
      },
      "execution_count": 19,
      "outputs": [
        {
          "output_type": "display_data",
          "data": {
            "text/plain": [
              "<Figure size 1000x600 with 1 Axes>"
            ],
            "image/png": "[encoded data removed]"
          },
          "metadata": {}
        }
      ]
    },
    {
      "cell_type": "markdown",
      "source": [
        "It can be observed that the D-class in the Modified Zurich Class has the highest total number of solar flares across moderate and severe. However E-class has the highest total number of solare flares across common.\n",
        "\n",
        "F-class flares are rare but frequent per event, producing high numbers of flares per observation. D-class itself is more frequent, but less flares per event"
      ],
      "metadata": {
        "id": "1CrdnNQHWlic"
      }
    },
    {
      "cell_type": "code",
      "source": [
        "plt.figure(figsize=(8,6))\n",
        "sns.boxplot(data=solar_flare_df[flare_types])\n",
        "plt.title('Boxplot of Flare Types')\n",
        "plt.ylabel('Number of Flares')\n",
        "plt.show()\n",
        "solar_flare_df[flare_types].describe()"
      ],
      "metadata": {
        "colab": {
          "base_uri": "https://localhost:8080/",
          "height": 828
        },
        "id": "s0oCVWUSZKdt",
        "outputId": "ada946a3-c5e3-4798-ce07-7e8ee67dcec8"
      },
      "execution_count": 20,
      "outputs": [
        {
          "output_type": "display_data",
          "data": {
            "text/plain": [
              "<Figure size 800x600 with 1 Axes>"
            ],
            "image/png": "[encoded data removed]"
          },
          "metadata": {}
        },
        {
          "output_type": "execute_result",
          "data": {
            "text/plain": [
              "       Common Flares  Moderate Flares  Severe Flares\n",
              "count    1389.000000      1389.000000    1389.000000\n",
              "mean        0.261339         0.067675       0.009359\n",
              "std         0.760201         0.353695       0.103534\n",
              "min         0.000000         0.000000       0.000000\n",
              "25%         0.000000         0.000000       0.000000\n",
              "50%         0.000000         0.000000       0.000000\n",
              "75%         0.000000         0.000000       0.000000\n",
              "max         8.000000         5.000000       2.000000"
            ],
            "text/html": [
              "\n",
              "  <div id=\"df-f020ce36-66de-406f-9b7a-d4ee0ae98ca7\" class=\"colab-df-container\">\n",
              "    <div>\n",
              "<style scoped>\n",
              "    .dataframe tbody tr th:only-of-type {\n",
              "        vertical-align: middle;\n",
              "    }\n",
              "\n",
              "    .dataframe tbody tr th {\n",
              "        vertical-align: top;\n",
              "    }\n",
              "\n",
              "    .dataframe thead th {\n",
              "        text-align: right;\n",
              "    }\n",
              "</style>\n",
              "<table border=\"1\" class=\"dataframe\">\n",
              "  <thead>\n",
              "    <tr style=\"text-align: right;\">\n",
              "      <th></th>\n",
              "      <th>Common Flares</th>\n",
              "      <th>Moderate Flares</th>\n",
              "      <th>Severe Flares</th>\n",
              "    </tr>\n",
              "  </thead>\n",
              "  <tbody>\n",
              "    <tr>\n",
              "      <th>count</th>\n",
              "      <td>1389.000000</td>\n",
              "      <td>1389.000000</td>\n",
              "      <td>1389.000000</td>\n",
              "    </tr>\n",
              "    <tr>\n",
              "      <th>mean</th>\n",
              "      <td>0.261339</td>\n",
              "      <td>0.067675</td>\n",
              "      <td>0.009359</td>\n",
              "    </tr>\n",
              "    <tr>\n",
              "      <th>std</th>\n",
              "      <td>0.760201</td>\n",
              "      <td>0.353695</td>\n",
              "      <td>0.103534</td>\n",
              "    </tr>\n",
              "    <tr>\n",
              "      <th>min</th>\n",
              "      <td>0.000000</td>\n",
              "      <td>0.000000</td>\n",
              "      <td>0.000000</td>\n",
              "    </tr>\n",
              "    <tr>\n",
              "      <th>25%</th>\n",
              "      <td>0.000000</td>\n",
              "      <td>0.000000</td>\n",
              "      <td>0.000000</td>\n",
              "    </tr>\n",
              "    <tr>\n",
              "      <th>50%</th>\n",
              "      <td>0.000000</td>\n",
              "      <td>0.000000</td>\n",
              "      <td>0.000000</td>\n",
              "    </tr>\n",
              "    <tr>\n",
              "      <th>75%</th>\n",
              "      <td>0.000000</td>\n",
              "      <td>0.000000</td>\n",
              "      <td>0.000000</td>\n",
              "    </tr>\n",
              "    <tr>\n",
              "      <th>max</th>\n",
              "      <td>8.000000</td>\n",
              "      <td>5.000000</td>\n",
              "      <td>2.000000</td>\n",
              "    </tr>\n",
              "  </tbody>\n",
              "</table>\n",
              "</div>\n",
              "    <div class=\"colab-df-buttons\">\n",
              "\n",
              "  <div class=\"colab-df-container\">\n",
              "    <button class=\"colab-df-convert\" onclick=\"convertToInteractive('df-f020ce36-66de-406f-9b7a-d4ee0ae98ca7')\"\n",
              "            title=\"Convert this dataframe to an interactive table.\"\n",
              "            style=\"display:none;\">\n",
              "\n",
              "  <svg xmlns=\"http://www.w3.org/2000/svg\" height=\"24px\" viewBox=\"0 -960 960 960\">\n",
              "    <path d=\"M120-120v-720h720v720H120Zm60-500h600v-160H180v160Zm220 220h160v-160H400v160Zm0 220h160v-160H400v160ZM180-400h160v-160H180v160Zm440 0h160v-160H620v160ZM180-180h160v-160H180v160Zm440 0h160v-160H620v160Z\"/>\n",
              "  </svg>\n",
              "    </button>\n",
              "\n",
              "  <style>\n",
              "    .colab-df-container {\n",
              "      display:flex;\n",
              "      gap: 12px;\n",
              "    }\n",
              "\n",
              "    .colab-df-convert {\n",
              "      background-color: #E8F0FE;\n",
              "      border: none;\n",
              "      border-radius: 50%;\n",
              "      cursor: pointer;\n",
              "      display: none;\n",
              "      fill: #1967D2;\n",
              "      height: 32px;\n",
              "      padding: 0 0 0 0;\n",
              "      width: 32px;\n",
              "    }\n",
              "\n",
              "    .colab-df-convert:hover {\n",
              "      background-color: #E2EBFA;\n",
              "      box-shadow: 0px 1px 2px rgba(60, 64, 67, 0.3), 0px 1px 3px 1px rgba(60, 64, 67, 0.15);\n",
              "      fill: #174EA6;\n",
              "    }\n",
              "\n",
              "    .colab-df-buttons div {\n",
              "      margin-bottom: 4px;\n",
              "    }\n",
              "\n",
              "    [theme=dark] .colab-df-convert {\n",
              "      background-color: #3B4455;\n",
              "      fill: #D2E3FC;\n",
              "    }\n",
              "\n",
              "    [theme=dark] .colab-df-convert:hover {\n",
              "      background-color: #434B5C;\n",
              "      box-shadow: 0px 1px 3px 1px rgba(0, 0, 0, 0.15);\n",
              "      filter: drop-shadow(0px 1px 2px rgba(0, 0, 0, 0.3));\n",
              "      fill: #FFFFFF;\n",
              "    }\n",
              "  </style>\n",
              "\n",
              "    <script>\n",
              "      const buttonEl =\n",
              "        document.querySelector('#df-f020ce36-66de-406f-9b7a-d4ee0ae98ca7 button.colab-df-convert');\n",
              "      buttonEl.style.display =\n",
              "        google.colab.kernel.accessAllowed ? 'block' : 'none';\n",
              "\n",
              "      async function convertToInteractive(key) {\n",
              "        const element = document.querySelector('#df-f020ce36-66de-406f-9b7a-d4ee0ae98ca7');\n",
              "        const dataTable =\n",
              "          await google.colab.kernel.invokeFunction('convertToInteractive',\n",
              "                                                    [key], {});\n",
              "        if (!dataTable) return;\n",
              "\n",
              "        const docLinkHtml = 'Like what you see? Visit the ' +\n",
              "          '<a target=\"_blank\" href=https://colab.research.google.com/notebooks/data_table.ipynb>data table notebook</a>'\n",
              "          + ' to learn more about interactive tables.';\n",
              "        element.innerHTML = '';\n",
              "        dataTable['output_type'] = 'display_data';\n",
              "        await google.colab.output.renderOutput(dataTable, element);\n",
              "        const docLink = document.createElement('div');\n",
              "        docLink.innerHTML = docLinkHtml;\n",
              "        element.appendChild(docLink);\n",
              "      }\n",
              "    </script>\n",
              "  </div>\n",
              "\n",
              "\n",
              "    <div id=\"df-13b3dd66-2e32-4ebb-a2d2-cb6bdc91c055\">\n",
              "      <button class=\"colab-df-quickchart\" onclick=\"quickchart('df-13b3dd66-2e32-4ebb-a2d2-cb6bdc91c055')\"\n",
              "                title=\"Suggest charts\"\n",
              "                style=\"display:none;\">\n",
              "\n",
              "<svg xmlns=\"http://www.w3.org/2000/svg\" height=\"24px\"viewBox=\"0 0 24 24\"\n",
              "     width=\"24px\">\n",
              "    <g>\n",
              "        <path d=\"M19 3H5c-1.1 0-2 .9-2 2v14c0 1.1.9 2 2 2h14c1.1 0 2-.9 2-2V5c0-1.1-.9-2-2-2zM9 17H7v-7h2v7zm4 0h-2V7h2v10zm4 0h-2v-4h2v4z\"/>\n",
              "    </g>\n",
              "</svg>\n",
              "      </button>\n",
              "\n",
              "<style>\n",
              "  .colab-df-quickchart {\n",
              "      --bg-color: #E8F0FE;\n",
              "      --fill-color: #1967D2;\n",
              "      --hover-bg-color: #E2EBFA;\n",
              "      --hover-fill-color: #174EA6;\n",
              "      --disabled-fill-color: #AAA;\n",
              "      --disabled-bg-color: #DDD;\n",
              "  }\n",
              "\n",
              "  [theme=dark] .colab-df-quickchart {\n",
              "      --bg-color: #3B4455;\n",
              "      --fill-color: #D2E3FC;\n",
              "      --hover-bg-color: #434B5C;\n",
              "      --hover-fill-color: #FFFFFF;\n",
              "      --disabled-bg-color: #3B4455;\n",
              "      --disabled-fill-color: #666;\n",
              "  }\n",
              "\n",
              "  .colab-df-quickchart {\n",
              "    background-color: var(--bg-color);\n",
              "    border: none;\n",
              "    border-radius: 50%;\n",
              "    cursor: pointer;\n",
              "    display: none;\n",
              "    fill: var(--fill-color);\n",
              "    height: 32px;\n",
              "    padding: 0;\n",
              "    width: 32px;\n",
              "  }\n",
              "\n",
              "  .colab-df-quickchart:hover {\n",
              "    background-color: var(--hover-bg-color);\n",
              "    box-shadow: 0 1px 2px rgba(60, 64, 67, 0.3), 0 1px 3px 1px rgba(60, 64, 67, 0.15);\n",
              "    fill: var(--button-hover-fill-color);\n",
              "  }\n",
              "\n",
              "  .colab-df-quickchart-complete:disabled,\n",
              "  .colab-df-quickchart-complete:disabled:hover {\n",
              "    background-color: var(--disabled-bg-color);\n",
              "    fill: var(--disabled-fill-color);\n",
              "    box-shadow: none;\n",
              "  }\n",
              "\n",
              "  .colab-df-spinner {\n",
              "    border: 2px solid var(--fill-color);\n",
              "    border-color: transparent;\n",
              "    border-bottom-color: var(--fill-color);\n",
              "    animation:\n",
              "      spin 1s steps(1) infinite;\n",
              "  }\n",
              "\n",
              "  @keyframes spin {\n",
              "    0% {\n",
              "      border-color: transparent;\n",
              "      border-bottom-color: var(--fill-color);\n",
              "      border-left-color: var(--fill-color);\n",
              "    }\n",
              "    20% {\n",
              "      border-color: transparent;\n",
              "      border-left-color: var(--fill-color);\n",
              "      border-top-color: var(--fill-color);\n",
              "    }\n",
              "    30% {\n",
              "      border-color: transparent;\n",
              "      border-left-color: var(--fill-color);\n",
              "      border-top-color: var(--fill-color);\n",
              "      border-right-color: var(--fill-color);\n",
              "    }\n",
              "    40% {\n",
              "      border-color: transparent;\n",
              "      border-right-color: var(--fill-color);\n",
              "      border-top-color: var(--fill-color);\n",
              "    }\n",
              "    60% {\n",
              "      border-color: transparent;\n",
              "      border-right-color: var(--fill-color);\n",
              "    }\n",
              "    80% {\n",
              "      border-color: transparent;\n",
              "      border-right-color: var(--fill-color);\n",
              "      border-bottom-color: var(--fill-color);\n",
              "    }\n",
              "    90% {\n",
              "      border-color: transparent;\n",
              "      border-bottom-color: var(--fill-color);\n",
              "    }\n",
              "  }\n",
              "</style>\n",
              "\n",
              "      <script>\n",
              "        async function quickchart(key) {\n",
              "          const quickchartButtonEl =\n",
              "            document.querySelector('#' + key + ' button');\n",
              "          quickchartButtonEl.disabled = true;  // To prevent multiple clicks.\n",
              "          quickchartButtonEl.classList.add('colab-df-spinner');\n",
              "          try {\n",
              "            const charts = await google.colab.kernel.invokeFunction(\n",
              "                'suggestCharts', [key], {});\n",
              "          } catch (error) {\n",
              "            console.error('Error during call to suggestCharts:', error);\n",
              "          }\n",
              "          quickchartButtonEl.classList.remove('colab-df-spinner');\n",
              "          quickchartButtonEl.classList.add('colab-df-quickchart-complete');\n",
              "        }\n",
              "        (() => {\n",
              "          let quickchartButtonEl =\n",
              "            document.querySelector('#df-13b3dd66-2e32-4ebb-a2d2-cb6bdc91c055 button');\n",
              "          quickchartButtonEl.style.display =\n",
              "            google.colab.kernel.accessAllowed ? 'block' : 'none';\n",
              "        })();\n",
              "      </script>\n",
              "    </div>\n",
              "\n",
              "    </div>\n",
              "  </div>\n"
            ],
            "application/vnd.google.colaboratory.intrinsic+json": {
              "type": "dataframe",
              "summary": "{\n  \"name\": \"solar_flare_df[flare_types]\",\n  \"rows\": 8,\n  \"fields\": [\n    {\n      \"column\": \"Common Flares\",\n      \"properties\": {\n        \"dtype\": \"number\",\n        \"std\": 490.63772170509134,\n        \"min\": 0.0,\n        \"max\": 1389.0,\n        \"num_unique_values\": 5,\n        \"samples\": [\n          0.2613390928725702,\n          8.0,\n          0.7602014698108933\n        ],\n        \"semantic_type\": \"\",\n        \"description\": \"\"\n      }\n    },\n    {\n      \"column\": \"Moderate Flares\",\n      \"properties\": {\n        \"dtype\": \"number\",\n        \"std\": 490.81488514150516,\n        \"min\": 0.0,\n        \"max\": 1389.0,\n        \"num_unique_values\": 5,\n        \"samples\": [\n          0.06767458603311735,\n          5.0,\n          0.35369456868878324\n        ],\n        \"semantic_type\": \"\",\n        \"description\": \"\"\n      }\n    },\n    {\n      \"column\": \"Severe Flares\",\n      \"properties\": {\n        \"dtype\": \"number\",\n        \"std\": 490.97943303424387,\n        \"min\": 0.0,\n        \"max\": 1389.0,\n        \"num_unique_values\": 5,\n        \"samples\": [\n          0.009359251259899209,\n          2.0,\n          0.10353384824856429\n        ],\n        \"semantic_type\": \"\",\n        \"description\": \"\"\n      }\n    }\n  ]\n}"
            }
          },
          "metadata": {},
          "execution_count": 20
        }
      ]
    },
    {
      "cell_type": "markdown",
      "source": [
        "There is ALOT of 0 common flares for most rows, 25% = 0, 50% = 0, 75% = 0. That goes along with moderate flares AND severe flares."
      ],
      "metadata": {
        "id": "g0CUDCYDZ3k4"
      }
    },
    {
      "cell_type": "markdown",
      "source": [
        "Let's say my hypothesis is \"D-class Zurich flares have significantly more Severe (X-class) flares than E-class.\"\n",
        "\n"
      ],
      "metadata": {
        "id": "8KIJvy1CbaHs"
      }
    },
    {
      "cell_type": "code",
      "source": [
        "subset_df = solar_flare_df[solar_flare_df['Modified Zurich Class'].isin(['D', 'E'])]"
      ],
      "metadata": {
        "id": "AbZxyZ2CbZ5N"
      },
      "execution_count": 21,
      "outputs": []
    },
    {
      "cell_type": "code",
      "source": [
        "group_D = solar_flare_df[solar_flare_df['Modified Zurich Class'] == 'D']['Severe Flares']\n",
        "group_E = solar_flare_df[solar_flare_df['Modified Zurich Class'] == 'E']['Severe Flares']\n",
        "\n",
        "stat, p_value = ttest_ind(group_D, group_E, equal_var=False)\n",
        "print(f\"T-test Statistic: {stat}\")\n",
        "print(f\"P-value: {p_value}\")\n"
      ],
      "metadata": {
        "colab": {
          "base_uri": "https://localhost:8080/"
        },
        "id": "aMJtXa-dbCZB",
        "outputId": "0867a563-62fe-4322-9481-eea5a51f8f70"
      },
      "execution_count": 22,
      "outputs": [
        {
          "output_type": "stream",
          "name": "stdout",
          "text": [
            "T-test Statistic: 0.2744398725711648\n",
            "P-value: 0.7839707411750629\n"
          ]
        }
      ]
    },
    {
      "cell_type": "markdown",
      "source": [
        "How do spot size and distribution influence the severity of solar flare activity?"
      ],
      "metadata": {
        "id": "URUcNFoE-5oT"
      }
    },
    {
      "cell_type": "code",
      "source": [
        "plt.figure(figsize=(10,6))\n",
        "sns.boxplot(data=solar_flare_df, x='Largest Spot Size', y='Severe Flares', palette='Reds')\n",
        "plt.title('Severe Flares by Largest Spot Size')\n",
        "plt.xlabel('Largest Spot Size')\n",
        "plt.ylabel('Number of Severe (X-class) Flares')\n",
        "plt.grid(axis='y')\n",
        "plt.show()"
      ],
      "metadata": {
        "colab": {
          "base_uri": "https://localhost:8080/",
          "height": 651
        },
        "id": "wGDl-sHx-7Mu",
        "outputId": "70a535d9-64dd-44d5-b004-ff252e7c4d93"
      },
      "execution_count": 23,
      "outputs": [
        {
          "output_type": "stream",
          "name": "stderr",
          "text": [
            "/tmp/ipython-input-602491430.py:2: FutureWarning: \n",
            "\n",
            "Passing `palette` without assigning `hue` is deprecated and will be removed in v0.14.0. Assign the `x` variable to `hue` and set `legend=False` for the same effect.\n",
            "\n",
            "  sns.boxplot(data=solar_flare_df, x='Largest Spot Size', y='Severe Flares', palette='Reds')\n"
          ]
        },
        {
          "output_type": "display_data",
          "data": {
            "text/plain": [
              "<Figure size 1000x600 with 1 Axes>"
            ],
            "image/png": "[encoded data removed]"
          },
          "metadata": {}
        }
      ]
    },
    {
      "cell_type": "markdown",
      "source": [
        "Larger spot sizes like K may be associated with more frequent or intense severe (X-class) solar flares, although the events are rare. All other classes have zero severe solar flares"
      ],
      "metadata": {
        "id": "OVGvGiGx_-3U"
      }
    },
    {
      "cell_type": "code",
      "source": [
        "plt.figure(figsize=(10,6))\n",
        "sns.boxplot(data=solar_flare_df, x='Spot Distribution', y='Severe Flares', palette='Oranges')\n",
        "plt.title('Severe Flares by Spot Distribution')\n",
        "plt.xlabel('Spot Distribution')\n",
        "plt.ylabel('Number of Severe (X-class) Flares')\n",
        "plt.grid(axis='y')\n",
        "plt.show()"
      ],
      "metadata": {
        "colab": {
          "base_uri": "https://localhost:8080/",
          "height": 651
        },
        "id": "-qd7yoIu_ANt",
        "outputId": "706739b1-be55-475e-f57f-6c4f92b3d739"
      },
      "execution_count": 24,
      "outputs": [
        {
          "output_type": "stream",
          "name": "stderr",
          "text": [
            "/tmp/ipython-input-1650758395.py:2: FutureWarning: \n",
            "\n",
            "Passing `palette` without assigning `hue` is deprecated and will be removed in v0.14.0. Assign the `x` variable to `hue` and set `legend=False` for the same effect.\n",
            "\n",
            "  sns.boxplot(data=solar_flare_df, x='Spot Distribution', y='Severe Flares', palette='Oranges')\n"
          ]
        },
        {
          "output_type": "display_data",
          "data": {
            "text/plain": [
              "<Figure size 1000x600 with 1 Axes>"
            ],
            "image/png": "[encoded data removed]"
          },
          "metadata": {}
        }
      ]
    },
    {
      "cell_type": "markdown",
      "source": [
        "The spot distribution category C may be linked to higher severe flare activity"
      ],
      "metadata": {
        "id": "WmWSogLKAZQ2"
      }
    },
    {
      "cell_type": "code",
      "source": [
        "import statsmodels.stats.multicomp as mc\n",
        "\n",
        "comp_spot_size = mc.MultiComparison(solar_flare_df['Severe Flares'], solar_flare_df['Largest Spot Size'])\n",
        "tukey_result_spot_size = comp_spot_size.tukeyhsd()\n",
        "print(\"Tukey HSD results for Largest Spot Size:\")\n",
        "print(tukey_result_spot_size)"
      ],
      "metadata": {
        "colab": {
          "base_uri": "https://localhost:8080/"
        },
        "id": "o56y9kqfBDnK",
        "outputId": "a41cb785-edc5-46b0-ef83-a25ddb571d02"
      },
      "execution_count": 25,
      "outputs": [
        {
          "output_type": "stream",
          "name": "stdout",
          "text": [
            "Tukey HSD results for Largest Spot Size:\n",
            "Multiple Comparison of Means - Tukey HSD, FWER=0.05 \n",
            "====================================================\n",
            "group1 group2 meandiff p-adj   lower   upper  reject\n",
            "----------------------------------------------------\n",
            "     A      H  -0.0108 0.9896 -0.0607   0.039  False\n",
            "     A      K   0.0849    0.0  0.0505  0.1193   True\n",
            "     A      R  -0.0108 0.8186 -0.0358  0.0142  False\n",
            "     A      S  -0.0089 0.8463 -0.0304  0.0126  False\n",
            "     A      X  -0.0108 0.8502 -0.0372  0.0155  False\n",
            "     H      K   0.0957    0.0  0.0403  0.1511   True\n",
            "     H      R      0.0    1.0 -0.0501  0.0501  False\n",
            "     H      S   0.0019    1.0 -0.0465  0.0504  False\n",
            "     H      X      0.0    1.0 -0.0508  0.0508  False\n",
            "     K      R  -0.0957    0.0 -0.1305  -0.061   True\n",
            "     K      S  -0.0938    0.0 -0.1261 -0.0615   True\n",
            "     K      X  -0.0957    0.0 -0.1315   -0.06   True\n",
            "     R      S   0.0019 0.9999 -0.0201   0.024  False\n",
            "     R      X      0.0    1.0 -0.0268  0.0268  False\n",
            "     S      X  -0.0019 0.9999 -0.0255  0.0217  False\n",
            "----------------------------------------------------\n"
          ]
        }
      ]
    },
    {
      "cell_type": "markdown",
      "source": [
        "The K group differs significantly from A, R, S , X, and H, p-adj = 0. This means that the average number of severe flares for spot size K is significantly different."
      ],
      "metadata": {
        "id": "ESffu3yNHbZI"
      }
    },
    {
      "cell_type": "code",
      "source": [
        "comp_spot_dist = mc.MultiComparison(solar_flare_df['Severe Flares'], solar_flare_df['Spot Distribution'])\n",
        "tukey_result_spot_dist = comp_spot_dist.tukeyhsd()\n",
        "print(\"\\nTukey HSD results for Spot Distribution:\")\n",
        "print(tukey_result_spot_dist)"
      ],
      "metadata": {
        "colab": {
          "base_uri": "https://localhost:8080/"
        },
        "id": "AjdJG4cnBDdI",
        "outputId": "d5e3fda1-0d90-48cc-8145-1a8b30f123eb"
      },
      "execution_count": 26,
      "outputs": [
        {
          "output_type": "stream",
          "name": "stdout",
          "text": [
            "\n",
            "Tukey HSD results for Spot Distribution:\n",
            "Multiple Comparison of Means - Tukey HSD, FWER=0.05 \n",
            "====================================================\n",
            "group1 group2 meandiff p-adj   lower   upper  reject\n",
            "----------------------------------------------------\n",
            "     C      I  -0.1417    0.0 -0.1796 -0.1039   True\n",
            "     C      O  -0.1466    0.0  -0.183 -0.1102   True\n",
            "     C      X  -0.1431    0.0 -0.1803 -0.1059   True\n",
            "     I      O  -0.0048 0.8984 -0.0226   0.013  False\n",
            "     I      X  -0.0014 0.9979 -0.0208  0.0181  False\n",
            "     O      X   0.0035 0.9493  -0.013  0.0199  False\n",
            "----------------------------------------------------\n"
          ]
        }
      ]
    },
    {
      "cell_type": "markdown",
      "source": [
        "Category C (in Spot Distribution) has a significantly different average number of Severe Flares compared to I, O, and X."
      ],
      "metadata": {
        "id": "IHPZy9Z1IOeF"
      }
    },
    {
      "cell_type": "markdown",
      "source": [
        "K-sized sunspots  and\n",
        "\n",
        "C-type distributions\n",
        "\n",
        "are significantly more likely to produce severe (X-class) solar flares. This conclusion is also backed up by visualizations shown above.\n"
      ],
      "metadata": {
        "id": "1MNi0rs8IZmF"
      }
    },
    {
      "cell_type": "markdown",
      "source": [
        "How does Zurich Class affect the number of solar flares in a 24-hour period?\n",
        "\n",
        "Null : The average number of solar flares is the same across all Zurich Classes.\n",
        "\n",
        "Alternative : At least one Zurich Class has a different average number of solar flares."
      ],
      "metadata": {
        "id": "4rT4hyhNdNj1"
      }
    },
    {
      "cell_type": "code",
      "source": [
        "import statsmodels.stats.multicomp as mc"
      ],
      "metadata": {
        "id": "0ObwnvZu6dVW"
      },
      "execution_count": 27,
      "outputs": []
    },
    {
      "cell_type": "code",
      "source": [
        "comp = mc.MultiComparison(solar_flare_df['Common Flares'], solar_flare_df['Modified Zurich Class'])\n",
        "tukey_result = comp.tukeyhsd()\n",
        "print(tukey_result)"
      ],
      "metadata": {
        "colab": {
          "base_uri": "https://localhost:8080/"
        },
        "id": "zCMKD0s47p_w",
        "outputId": "b9bbb4bf-4507-4557-c95f-156c12aebb6b"
      },
      "execution_count": 28,
      "outputs": [
        {
          "output_type": "stream",
          "name": "stdout",
          "text": [
            "Multiple Comparison of Means - Tukey HSD, FWER=0.05 \n",
            "====================================================\n",
            "group1 group2 meandiff p-adj   lower   upper  reject\n",
            "----------------------------------------------------\n",
            "     B      C   0.0801 0.8144 -0.1035  0.2636  False\n",
            "     B      D    0.296    0.0  0.1172  0.4747   True\n",
            "     B      E   0.8939    0.0  0.6599   1.128   True\n",
            "     B      F   0.7237    0.0  0.4076  1.0398   True\n",
            "     B      H  -0.0221 0.9991 -0.1946  0.1504  False\n",
            "     C      D   0.2159 0.0025  0.0519  0.3798   True\n",
            "     C      E   0.8139    0.0  0.5909  1.0369   True\n",
            "     C      F   0.6436    0.0  0.3356  0.9516   True\n",
            "     C      H  -0.1022 0.4299 -0.2593  0.0549  False\n",
            "     D      E    0.598    0.0   0.379   0.817   True\n",
            "     D      F   0.4278 0.0009  0.1226  0.7329   True\n",
            "     D      H  -0.3181    0.0 -0.4695 -0.1666   True\n",
            "     E      F  -0.1702 0.7109 -0.5107  0.1703  False\n",
            "     E      H  -0.9161    0.0   -1.13 -0.7021   True\n",
            "     F      H  -0.7458    0.0 -1.0474 -0.4443   True\n",
            "----------------------------------------------------\n"
          ]
        }
      ]
    },
    {
      "cell_type": "markdown",
      "source": [
        "Some pairs like B vs C, C vs H, or E vs F do not differ significantly.\n",
        "\n",
        "The Modified Zurich Class has a significant effect on the average number of Common Flares.\n",
        "Specifically, classes E, F, and D consistently have significantly higher flare counts than classes B, C, and H. This is backed up from the previous visualizations created.\n",
        "\n",
        "so yes Zurich Class influences solar flare activity.\n",
        "Alternative hypothesis rejected\n",
        "\n"
      ],
      "metadata": {
        "id": "9I0fJAIU8eex"
      }
    },
    {
      "cell_type": "code",
      "source": [
        "from sklearn.model_selection import train_test_split\n",
        "import numpy as np\n",
        "X = solar_flare_df[['Modified Zurich Class', 'Largest Spot Size', 'Spot Distribution']]\n",
        "y = solar_flare_df['Severe Flares']\n",
        "\n",
        "X = solar_flare_df[['Modified Zurich Class', 'Largest Spot Size', 'Spot Distribution']]\n",
        "y = solar_flare_df['Severe Flares']\n",
        "\n",
        "\n",
        "X_encoded = pd.get_dummies(X)\n",
        "\n",
        "X_train, X_test, y_train, y_test = train_test_split(X_encoded, y, test_size=0.2, random_state=42)\n",
        "\n",
        "\n",
        "model = LinearRegression()\n",
        "model.fit(X_train, y_train)\n",
        "\n",
        "y_pred = model.predict(X_test)\n",
        "\n",
        "\n",
        "mae = mean_absolute_error(y_test, y_pred)\n",
        "rmse = np.sqrt(mean_squared_error(y_test, y_pred))\n",
        "r2 = r2_score(y_test, y_pred)\n",
        "\n",
        "print(\"Mean Absolute Error (MAE):\", mae)\n",
        "print(\"Root Mean Squared Error (RMSE):\", rmse)\n",
        "print(\"R² Score:\", r2)"
      ],
      "metadata": {
        "id": "qBw3nUwn-1TI",
        "colab": {
          "base_uri": "https://localhost:8080/"
        },
        "outputId": "305b93b7-e06e-40d3-cf68-ac853b9e4320"
      },
      "execution_count": 29,
      "outputs": [
        {
          "output_type": "stream",
          "name": "stdout",
          "text": [
            "Mean Absolute Error (MAE): 0.030059101334687376\n",
            "Root Mean Squared Error (RMSE): 0.12670747761916634\n",
            "R² Score: 0.0910051318517816\n"
          ]
        }
      ]
    },
    {
      "cell_type": "code",
      "source": [
        "plt.scatter(y_test, y_pred, alpha=0.6, color='tomato')\n",
        "plt.xlabel(\"Actual Severe Flares\")\n",
        "plt.ylabel(\"Predicted Severe Flares\")\n",
        "plt.title(\"Actual vs. Predicted Severe Flares\")\n",
        "plt.grid(True)\n",
        "plt.plot([0, max(y_test)], [0, max(y_test)], 'k--', lw=2, label=\"Perfect Prediction\")  # diagonal line\n",
        "plt.legend()\n",
        "plt.tight_layout()\n",
        "plt.show()"
      ],
      "metadata": {
        "colab": {
          "base_uri": "https://localhost:8080/",
          "height": 487
        },
        "id": "F6V_2JuvogIW",
        "outputId": "d7cb3fc8-0a9c-4440-eff6-57d7012d06fb"
      },
      "execution_count": 30,
      "outputs": [
        {
          "output_type": "display_data",
          "data": {
            "text/plain": [
              "<Figure size 640x480 with 1 Axes>"
            ],
            "image/png": "[encoded data removed]"
          },
          "metadata": {}
        }
      ]
    },
    {
      "cell_type": "code",
      "source": [],
      "metadata": {
        "colab": {
          "base_uri": "https://localhost:8080/",
          "height": 487
        },
        "id": "1hXfO2Swoj3h",
        "outputId": "1292e5c9-070b-439b-d5eb-8013f36b4506"
      },
      "execution_count": null,
      "outputs": [
        {
          "output_type": "display_data",
          "data": {
            "text/plain": [
              "<Figure size 640x480 with 1 Axes>"
            ],
            "image/png": "[encoded data removed]"
          },
          "metadata": {}
        }
      ]
    },
    {
      "cell_type": "code",
      "source": [
        "y = solar_flare_df['Common Flares']\n",
        "X = solar_flare_df.drop(['Common Flares', 'Moderate Flares', 'Severe Flares'], axis=1)\n",
        "\n",
        "\n",
        "X = pd.get_dummies(X, drop_first=True)\n",
        "\n",
        "\n",
        "X_train, X_test, y_train, y_test = train_test_split(X, y, test_size=0.2, random_state=42)\n",
        "\n",
        "\n",
        "lr_model = LinearRegression()\n",
        "lr_model.fit(X_train, y_train)\n",
        "\n",
        "\n",
        "y_pred = lr_model.predict(X_test)\n",
        "mae = mean_absolute_error(y_test, y_pred)\n",
        "rmse = mean_squared_error(y_test, y_pred) ** 0.5\n",
        "r2 = r2_score(y_test, y_pred)\n",
        "\n",
        "print(\"Linear Regression on Common Flares\")\n",
        "print(f\"MAE: {mae:.4f}\")\n",
        "print(f\"RMSE: {rmse:.4f}\")\n",
        "print(f\"R² Score: {r2:.4f}\")\n"
      ],
      "metadata": {
        "colab": {
          "base_uri": "https://localhost:8080/"
        },
        "id": "oBluOT36pJoL",
        "outputId": "43f2675d-9792-4fe3-8ea7-e6a03c307fd9"
      },
      "execution_count": 31,
      "outputs": [
        {
          "output_type": "stream",
          "name": "stdout",
          "text": [
            "Linear Regression on Common Flares\n",
            "MAE: 0.4195\n",
            "RMSE: 0.7286\n",
            "R² Score: -0.0366\n"
          ]
        }
      ]
    },
    {
      "cell_type": "code",
      "source": [
        "plt.figure(figsize=(6, 6))\n",
        "plt.scatter(y_test, y_pred, color='darkblue', alpha=0.4)\n",
        "plt.plot([0, max(y_test)], [0, max(y_test)], 'k--', label='Perfect Prediction')\n",
        "plt.xlabel('Actual Common Flares')\n",
        "plt.ylabel('Predicted Common Flares')\n",
        "plt.title('Actual vs. Predicted Common Flares')\n",
        "plt.legend()\n",
        "plt.grid()\n",
        "plt.show()"
      ],
      "metadata": {
        "colab": {
          "base_uri": "https://localhost:8080/",
          "height": 564
        },
        "id": "yZBiaCUrpMyQ",
        "outputId": "999e0881-3919-45d6-a4c6-11cb31d17509"
      },
      "execution_count": 32,
      "outputs": [
        {
          "output_type": "display_data",
          "data": {
            "text/plain": [
              "<Figure size 600x600 with 1 Axes>"
            ],
            "image/png": "[encoded data removed]"
          },
          "metadata": {}
        }
      ]
    },
    {
      "cell_type": "code",
      "source": [
        "from sklearn.ensemble import RandomForestClassifier\n",
        "from sklearn.model_selection import train_test_split\n",
        "from sklearn.metrics import classification_report, confusion_matrix\n",
        "import pandas as pd\n",
        "\n",
        "solar_flare_df['Common_Flare_Binary'] = (solar_flare_df['Common Flares'] > 0).astype(int)\n",
        "\n",
        "X = solar_flare_df.drop(['Common Flares', 'Moderate Flares', 'Severe Flares', 'Common_Flare_Binary'], axis=1)\n",
        "X = pd.get_dummies(X, drop_first=True)\n",
        "\n",
        "y = solar_flare_df['Common_Flare_Binary']\n",
        "\n",
        "X_train, X_test, y_train, y_test = train_test_split(X, y, test_size=0.2, random_state=42)\n",
        "\n",
        "clf = RandomForestClassifier(random_state=42)\n",
        "clf.fit(X_train, y_train)\n",
        "\n",
        "y_pred = clf.predict(X_test)\n",
        "\n",
        "print(\"Confusion Matrix:\")\n",
        "print(confusion_matrix(y_test, y_pred))\n",
        "print(\"\\nClassification Report:\")\n",
        "print(classification_report(y_test, y_pred))"
      ],
      "metadata": {
        "colab": {
          "base_uri": "https://localhost:8080/"
        },
        "id": "JyzatjvyrjDP",
        "outputId": "8b208b42-0c36-4c94-cc91-ad23b7ddf5fe"
      },
      "execution_count": 33,
      "outputs": [
        {
          "output_type": "stream",
          "name": "stdout",
          "text": [
            "Confusion Matrix:\n",
            "[[211  22]\n",
            " [ 40   5]]\n",
            "\n",
            "Classification Report:\n",
            "              precision    recall  f1-score   support\n",
            "\n",
            "           0       0.84      0.91      0.87       233\n",
            "           1       0.19      0.11      0.14        45\n",
            "\n",
            "    accuracy                           0.78       278\n",
            "   macro avg       0.51      0.51      0.51       278\n",
            "weighted avg       0.73      0.78      0.75       278\n",
            "\n"
          ]
        }
      ]
    },
    {
      "cell_type": "code",
      "source": [
        "from sklearn.metrics import confusion_matrix, ConfusionMatrixDisplay\n",
        "\n",
        "cm = confusion_matrix(y_test, y_pred)\n",
        "\n",
        "plt.figure(figsize=(6, 4))\n",
        "sns.heatmap(cm, annot=True, fmt='d', cmap='Blues', xticklabels=['No Flare', 'Flare'], yticklabels=['No Flare', 'Flare'])\n",
        "plt.xlabel('Predicted Label')\n",
        "plt.ylabel('True Label')\n",
        "plt.title('Confusion Matrix')\n",
        "plt.tight_layout()\n",
        "plt.show()"
      ],
      "metadata": {
        "colab": {
          "base_uri": "https://localhost:8080/",
          "height": 407
        },
        "id": "CsgKcE67sgkv",
        "outputId": "78b55102-a326-4acd-dde0-713136daf19e"
      },
      "execution_count": 34,
      "outputs": [
        {
          "output_type": "display_data",
          "data": {
            "text/plain": [
              "<Figure size 600x400 with 2 Axes>"
            ],
            "image/png": "[encoded data removed]"
          },
          "metadata": {}
        }
      ]
    },
    {
      "cell_type": "code",
      "source": [
        "print(solar_flare_df.columns)"
      ],
      "metadata": {
        "colab": {
          "base_uri": "https://localhost:8080/"
        },
        "id": "JV7mLNrJvE81",
        "outputId": "7ccaef0a-3f3a-4591-d288-910bac91264a"
      },
      "execution_count": null,
      "outputs": [
        {
          "output_type": "stream",
          "name": "stdout",
          "text": [
            "Index(['modified Zurich class', 'largest spot size', 'spot distribution',\n",
            "       'activity', 'evolution', 'previous 24 hour flare activity',\n",
            "       'historically-complex', 'became complex on this pass', 'area',\n",
            "       'area of largest spot', 'common flares', 'moderate flares',\n",
            "       'severe flares'],\n",
            "      dtype='object')\n"
          ]
        }
      ]
    },
    {
      "cell_type": "code",
      "source": [
        "solar_flare_df.columns = solar_flare_df.columns.str.strip()\n",
        "\n",
        "\n",
        "y = solar_flare_df['Severe Flares']\n",
        "X = solar_flare_df.drop(['Common Flares', 'Moderate Flares', 'Severe Flares'], axis=1)\n",
        "\n",
        "\n",
        "X = pd.get_dummies(X, drop_first=True)\n",
        "\n",
        "\n",
        "X_train, X_test, y_train, y_test = train_test_split(X, y, test_size=0.2, random_state=42)\n",
        "\n",
        "\n",
        "rf_model = RandomForestClassifier(random_state=42)\n",
        "rf_model.fit(X_train, y_train)\n",
        "\n",
        "\n",
        "y_pred = rf_model.predict(X_test)\n",
        "\n",
        "\n",
        "print(\"Classification Report:\\n\", classification_report(y_test, y_pred))\n",
        "\n",
        "cm = confusion_matrix(y_test, y_pred)\n",
        "disp = ConfusionMatrixDisplay(confusion_matrix=cm)\n",
        "disp.plot(cmap='Blues')\n",
        "plt.title(\"Confusion Matrix - Random Forest (Severe Flares)\")\n",
        "plt.show()\n"
      ],
      "metadata": {
        "colab": {
          "base_uri": "https://localhost:8080/",
          "height": 646
        },
        "id": "aTt4bhf4tULa",
        "outputId": "09b50c4a-c9e1-4e9f-f0f5-6e3b16d8373d"
      },
      "execution_count": 35,
      "outputs": [
        {
          "output_type": "stream",
          "name": "stdout",
          "text": [
            "Classification Report:\n",
            "               precision    recall  f1-score   support\n",
            "\n",
            "           0       0.98      0.99      0.99       273\n",
            "           1       0.00      0.00      0.00         5\n",
            "\n",
            "    accuracy                           0.97       278\n",
            "   macro avg       0.49      0.50      0.49       278\n",
            "weighted avg       0.96      0.97      0.97       278\n",
            "\n"
          ]
        },
        {
          "output_type": "display_data",
          "data": {
            "text/plain": [
              "<Figure size 640x480 with 2 Axes>"
            ],
            "image/png": "[encoded data removed]"
          },
          "metadata": {}
        }
      ]
    }
  ]
}